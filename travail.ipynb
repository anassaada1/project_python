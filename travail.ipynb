{
 "cells": [
  {
   "cell_type": "code",
   "execution_count": 1,
   "id": "050c1475",
   "metadata": {},
   "outputs": [],
   "source": [
    "import json\n",
    "import pymongo\n",
    "from pymongo import MongoClient\n",
    "from datetime import datetime\n",
    "import matplotlib.pyplot as plt\n",
    "from numpy import arange\n",
    "import random\n",
    "import pandas"
   ]
  },
  {
   "cell_type": "code",
   "execution_count": 2,
   "id": "f373e760",
   "metadata": {},
   "outputs": [],
   "source": [
    "client = pymongo.MongoClient(\"mongodb://localhost:27017/\")\n",
    "db=client[\"rhobs\"]\n",
    "mycollaction=db[\"people\"]"
   ]
  },
  {
   "cell_type": "code",
   "execution_count": 3,
   "id": "0f6c21ee",
   "metadata": {},
   "outputs": [],
   "source": [
    "client = pymongo.MongoClient(\"mongodb://localhost:27017/\")\n",
    "\n",
    "def collection(uri):\n",
    "    client = MongoClient(uri)\n",
    "    database = client[\"rhobs\"]\n",
    "    collection = database[\"people\"]\n",
    "    return collection"
   ]
  },
  {
   "cell_type": "code",
   "execution_count": 4,
   "id": "df572546",
   "metadata": {},
   "outputs": [],
   "source": [
    "def load(uri=\"mongodb://localhost:27017/\", datapath=r\"C:\\Users\\anass\\Downloads\\.ipynb_checkpoints\\data.json\"):\n",
    "    coll = collection(uri=uri)\n",
    "    with open(datapath, \"r\") as fp:\n",
    "        data = json.load(fp)\n",
    "        for person in data:\n",
    "            coll.insert_one(person)\n"
   ]
  },
  {
   "cell_type": "code",
   "execution_count": 5,
   "id": "e6c658aa",
   "metadata": {},
   "outputs": [
    {
     "data": {
      "text/plain": [
       "Collection(Database(MongoClient(host=['localhost:27017'], document_class=dict, tz_aware=False, connect=True), 'rhobs'), 'people')"
      ]
     },
     "execution_count": 5,
     "metadata": {},
     "output_type": "execute_result"
    }
   ],
   "source": [
    "collection(\"mongodb://localhost:27017/\")"
   ]
  },
  {
   "cell_type": "code",
   "execution_count": null,
   "id": "3973ad17",
   "metadata": {},
   "outputs": [],
   "source": []
  },
  {
   "cell_type": "code",
   "execution_count": 6,
   "id": "ad11f3f3",
   "metadata": {},
   "outputs": [],
   "source": [
    "load()"
   ]
  },
  {
   "cell_type": "code",
   "execution_count": 7,
   "id": "45de747c",
   "metadata": {},
   "outputs": [
    {
     "data": {
      "text/plain": [
       "['admin', 'config', 'local', 'rhobs']"
      ]
     },
     "execution_count": 7,
     "metadata": {},
     "output_type": "execute_result"
    }
   ],
   "source": [
    "client.list_database_names()\n"
   ]
  },
  {
   "cell_type": "code",
   "execution_count": 8,
   "id": "5b006047",
   "metadata": {},
   "outputs": [],
   "source": [
    "def find_all():\n",
    "    people = mycollaction.find()\n",
    "    for person in people:\n",
    "        print(person)"
   ]
  },
  {
   "cell_type": "code",
   "execution_count": 9,
   "id": "4ff04a58",
   "metadata": {},
   "outputs": [
    {
     "name": "stdout",
     "output_type": "stream",
     "text": [
      "{'_id': ObjectId('6424d08f97d5a1ad8d2db1fa'), 'job': 'expert automobile', 'company': 'Neveu SA', 'ssn': '261034101814319', 'residence': '77, rue Bigot\\n69583 PineauVille', 'current_location': [61.800313, -7.789611], 'blood_group': 'AB-', 'website': ['http://www.teixeira.com/', 'http://laurent.com/', 'https://bouvier.com/', 'http://perez.fr/'], 'username': 'hmaillard', 'name': 'Arnaude Fischer', 'sex': 'F', 'address': '69, rue de Gilbert\\n70052 Saint LouiseBourg', 'mail': 'veronique79@ifrance.com', 'birthdate': '1998-02-28'}\n",
      "{'_id': ObjectId('6424d08f97d5a1ad8d2db1fb'), 'job': 'chargé de recherche en acoustique musicale', 'company': 'Gautier', 'ssn': '145088400768545', 'residence': '15, rue Hugues Breton\\n05703 Becker', 'current_location': [-51.571988, 22.39516], 'blood_group': 'B-', 'website': ['http://berthelot.net/', 'http://www.meunier.com/', 'https://marechal.com/'], 'username': 'lauremarin', 'name': 'Chantal Valette', 'sex': 'F', 'address': 'chemin Gomes\\n51854 Potier', 'mail': 'manon22@hotmail.fr', 'birthdate': '2004-07-13'}\n",
      "{'_id': ObjectId('6424d08f97d5a1ad8d2db1fc'), 'job': \"juge d'instruction\", 'company': 'Gaillard SARL', 'ssn': '108023155510639', 'residence': '58, boulevard Benoît Ramos\\n51834 Blin', 'current_location': [53.595249, -118.088591], 'blood_group': 'O+', 'website': ['https://www.leduc.fr/', 'http://dupre.fr/', 'https://www.bousquet.fr/', 'https://www.leblanc.net/'], 'username': 'frederic74', 'name': 'Claude Fouquet', 'sex': 'F', 'address': '29, avenue Jeannine Maréchal\\n49185 Lelièvre', 'mail': 'theophile66@dbmail.com', 'birthdate': '1919-03-25'}\n",
      "{'_id': ObjectId('6424d08f97d5a1ad8d2db1fd'), 'job': 'administrateur territorial', 'company': 'François', 'ssn': '138058619458217', 'residence': '12, avenue Yves Faivre\\n94118 Sainte AdrienneVille', 'current_location': [-58.812559, -43.531101], 'blood_group': 'A-', 'website': ['https://www.brun.org/', 'http://www.dufour.com/', 'https://langlois.net/', 'http://www.gregoire.fr/'], 'username': 'jeannele-goff', 'name': 'Julien de Munoz', 'sex': 'M', 'address': 'rue de Dufour\\n57356 Martinez', 'mail': 'georgesveronique@tiscali.fr', 'birthdate': '1927-11-04'}\n",
      "{'_id': ObjectId('6424d08f97d5a1ad8d2db1fe'), 'job': 'chercheur en physique', 'company': 'Hoarau et Fils', 'ssn': '194062123178361', 'residence': 'chemin de Martin\\n12683 Guillot', 'current_location': [38.5796055, 40.159154], 'blood_group': 'A+', 'website': ['https://www.valette.com/'], 'username': 'xleroux', 'name': 'Aimée Boutin de la Jacques', 'sex': 'F', 'address': '197, rue Teixeira\\n57380 Lenoir', 'mail': 'alix63@wanadoo.fr', 'birthdate': '1921-11-04'}\n",
      "{'_id': ObjectId('6424d08f97d5a1ad8d2db1ff'), 'job': 'aérodynamicien', 'company': 'Breton S.A.R.L.', 'ssn': '175104809518756', 'residence': '49, avenue Humbert\\n83716 Diaz-les-Bains', 'current_location': [5.2338335, 78.870761], 'blood_group': 'B-', 'website': ['http://verdier.fr/', 'http://blot.net/', 'http://www.menard.net/', 'http://blondel.fr/'], 'username': 'iarnaud', 'name': 'Guy Dufour-Rémy', 'sex': 'M', 'address': '17, chemin Capucine Moulin\\n72111 Fabre', 'mail': 'marine22@wanadoo.fr', 'birthdate': '1988-05-10'}\n",
      "{'_id': ObjectId('6424d08f97d5a1ad8d2db200'), 'job': 'psychanalyste', 'company': 'Hamon', 'ssn': '164036005723884', 'residence': '63, rue Dupré\\n00614 Richard', 'current_location': [0.91753, -160.476699], 'blood_group': 'B+', 'website': ['http://www.gilbert.fr/'], 'username': 'christellegeorges', 'name': 'Nicolas Berthelot', 'sex': 'M', 'address': '6, rue Alex Richard\\n73561 Sainte Patriciaboeuf', 'mail': 'dgay@yahoo.fr', 'birthdate': '1984-07-23'}\n",
      "{'_id': ObjectId('6424d08f97d5a1ad8d2db201'), 'job': 'électricien installateur installatrice', 'company': 'Huet Gosselin SA', 'ssn': '206010319063494', 'residence': '88, avenue de Dubois\\n06907 Mathieu-sur-Torres', 'current_location': [-54.628896, -34.473097], 'blood_group': 'AB-', 'website': ['http://coste.org/', 'https://picard.fr/', 'https://www.diaz.com/'], 'username': 'zherve', 'name': 'Cécile Diaz Le Mary', 'sex': 'F', 'address': '85, rue Grégoire Godard\\n88038 Mahe', 'mail': 'xdiallo@tiscali.fr', 'birthdate': '1996-11-07'}\n",
      "{'_id': ObjectId('6424d08f97d5a1ad8d2db202'), 'job': 'professeur de lycée professionnel', 'company': 'Wagner SA', 'ssn': '192051803323024', 'residence': '41, chemin Paul Roche\\n39746 Sainte Catherine', 'current_location': [-25.8249575, 153.089636], 'blood_group': 'O+', 'website': ['http://gonzalez.org/', 'http://da.com/'], 'username': 'alex72', 'name': 'Marc-Denis Delorme', 'sex': 'M', 'address': 'boulevard de Normand\\n54260 Diallodan', 'mail': 'thibaultchauveau@voila.fr', 'birthdate': '1951-12-05'}\n",
      "{'_id': ObjectId('6424d08f97d5a1ad8d2db203'), 'job': 'régisseur général générale cinéma', 'company': 'Colas', 'ssn': '196011927203636', 'residence': '14, chemin François\\n43236 BarbierBourg', 'current_location': [-14.9593235, -59.031769], 'blood_group': 'AB+', 'website': ['http://thibault.com/', 'https://www.neveu.fr/'], 'username': 'cohenarthur', 'name': 'Louise Lemaître', 'sex': 'F', 'address': '4, avenue de Brun\\n13932 Saint Henri', 'mail': 'kleleu@voila.fr', 'birthdate': '1960-12-23'}\n",
      "{'_id': ObjectId('6424d08f97d5a1ad8d2db204'), 'job': 'boucher', 'company': 'Hardy et Fils', 'ssn': '126054604286941', 'residence': '9, chemin de Munoz\\n09115 Regnier', 'current_location': [-49.4456915, 154.112508], 'blood_group': 'O+', 'website': ['http://www.guilbert.net/', 'https://www.perrin.net/', 'http://salmon.fr/', 'http://www.hamon.org/'], 'username': 'fpasquier', 'name': 'Christophe Rey-Rossi', 'sex': 'M', 'address': '5, avenue Henriette Hoareau\\n11282 Poulain-les-Bains', 'mail': 'amelieguilbert@free.fr', 'birthdate': '2014-11-05'}\n",
      "{'_id': ObjectId('6424d08f97d5a1ad8d2db205'), 'job': 'éducateur sportif sportive', 'company': 'Couturier Labbé et Fils', 'ssn': '233098100432266', 'residence': '21, avenue Thibaut Tanguy\\n47479 Duval-la-Forêt', 'current_location': [-19.036186, 24.800519], 'blood_group': 'B-', 'website': ['http://lejeune.fr/', 'https://picard.fr/', 'http://lopez.fr/'], 'username': 'qmaillet', 'name': 'Charles Payet', 'sex': 'M', 'address': '75, rue Daniel Tessier\\n20475 Dumas-les-Bains', 'mail': 'thomas35@free.fr', 'birthdate': '1964-06-24'}\n",
      "{'_id': ObjectId('6424d08f97d5a1ad8d2db206'), 'job': 'surveillant de centre pénitentiaire', 'company': 'Bouvier Menard S.A.R.L.', 'ssn': '145087306524116', 'residence': '2, chemin de Picard\\n05905 LoiseauVille', 'current_location': [-11.413921, 164.371249], 'blood_group': 'AB-', 'website': ['http://www.bourgeois.net/'], 'username': 'mbertrand', 'name': 'Zacharie Prévost', 'sex': 'M', 'address': '89, rue de Bouvet\\n32345 Moreauboeuf', 'mail': 'goncalveshonore@noos.fr', 'birthdate': '1956-11-19'}\n",
      "{'_id': ObjectId('6424d08f97d5a1ad8d2db207'), 'job': 'technicien automobile', 'company': 'Cousin', 'ssn': '238067728847436', 'residence': '11, rue de Launay\\n79936 Bouvetnec', 'current_location': [57.9260505, -159.388805], 'blood_group': 'A+', 'website': ['https://www.ferrand.fr/', 'http://dupuy.fr/', 'https://thibault.com/', 'http://lecomte.org/'], 'username': 'martine12', 'name': 'Martin Benard', 'sex': 'M', 'address': '87, rue de Roussel\\n67340 Roche-sur-Peltier', 'mail': 'margueritemenard@voila.fr', 'birthdate': '1929-01-11'}\n",
      "{'_id': ObjectId('6424d08f97d5a1ad8d2db208'), 'job': 'cogniticien', 'company': 'De Oliveira Daniel S.A.R.L.', 'ssn': '202032123172963', 'residence': '35, chemin Brigitte Renault\\n61417 Boutin', 'current_location': [-22.2744325, -6.140918], 'blood_group': 'A-', 'website': ['http://valette.org/', 'https://www.valentin.fr/', 'http://carre.com/', 'https://www.chauvet.com/'], 'username': 'speron', 'name': 'Augustin Poulain', 'sex': 'M', 'address': 'avenue de Maillard\\n93663 Hoarau', 'mail': 'zacharie48@hotmail.fr', 'birthdate': '1985-02-05'}\n",
      "{'_id': ObjectId('6424d08f97d5a1ad8d2db209'), 'job': 'ingénieur en fonderie', 'company': 'Guilbert', 'ssn': '225101730065966', 'residence': 'avenue de Delattre\\n55880 Michaud-la-Forêt', 'current_location': [-2.6709045, 23.997465], 'blood_group': 'AB-', 'website': ['http://www.delattre.net/', 'https://breton.fr/', 'http://www.leblanc.fr/', 'http://www.huet.org/'], 'username': 'kauger', 'name': 'Michelle Weber-Pruvost', 'sex': 'F', 'address': '23, rue Louis Clerc\\n44430 Rousseau', 'mail': 'pierrebailly@club-internet.fr', 'birthdate': '1973-12-21'}\n",
      "{'_id': ObjectId('6424d08f97d5a1ad8d2db20a'), 'job': 'brancardier', 'company': 'Marchal Gros S.A.R.L.', 'ssn': '175072432272796', 'residence': '36, chemin Turpin\\n69406 Lévy-les-Bains', 'current_location': [-28.8189445, -175.684816], 'blood_group': 'AB+', 'website': ['https://www.thomas.fr/'], 'username': 'ameliesauvage', 'name': 'Julien Vallet', 'sex': 'M', 'address': '11, chemin Leclerc\\n89912 Delmas', 'mail': 'stephanie90@tiscali.fr', 'birthdate': '1925-12-25'}\n",
      "{'_id': ObjectId('6424d08f97d5a1ad8d2db20b'), 'job': \"juriste droit de l'environnement\", 'company': 'Gaudin', 'ssn': '260016005787348', 'residence': '93, boulevard Klein\\n79176 Saint Auréliedan', 'current_location': [-11.430282, 13.461353], 'blood_group': 'B-', 'website': ['http://www.joly.com/'], 'username': 'josettecouturier', 'name': 'Margaud-Capucine Fournier', 'sex': 'F', 'address': '39, boulevard Robert Bigot\\n18899 David-sur-Mer', 'mail': 'paulette92@free.fr', 'birthdate': '1913-07-30'}\n",
      "{'_id': ObjectId('6424d08f97d5a1ad8d2db20c'), 'job': 'manager de risques', 'company': 'Lecoq', 'ssn': '166096806648132', 'residence': '74, avenue Geneviève Breton\\n72233 Leclercq', 'current_location': [-3.8770455, -61.484978], 'blood_group': 'AB+', 'website': ['https://girard.com/'], 'username': 'veronique24', 'name': 'Honoré Hoareau', 'sex': 'M', 'address': '12, avenue Xavier Philippe\\n78800 Bazin', 'mail': 'wweber@free.fr', 'birthdate': '1998-05-19'}\n",
      "{'_id': ObjectId('6424d08f97d5a1ad8d2db20d'), 'job': 'ingénieur pétrolier pétrolière', 'company': 'Maurice et Fils', 'ssn': '253119550014245', 'residence': 'rue Margot Marchal\\n88554 Navarro', 'current_location': [0.386098, -159.591299], 'blood_group': 'A+', 'website': ['https://thierry.com/', 'http://fabre.com/'], 'username': 'epottier', 'name': 'Margaux Bonnin de la Collin', 'sex': 'F', 'address': 'rue François Faure\\n36546 Saint Théophilenec', 'mail': 'ttoussaint@live.com', 'birthdate': '1977-10-19'}\n",
      "{'_id': ObjectId('6424d08f97d5a1ad8d2db20e'), 'job': 'ingénieur support', 'company': 'Bouvet', 'ssn': '156128100499513', 'residence': '122, chemin de Dupré\\n07939 Saint Luc', 'current_location': [-34.286929, -5.849605], 'blood_group': 'O+', 'website': ['http://laroche.com/'], 'username': 'lorraine36', 'name': 'Isaac Rolland du Pascal', 'sex': 'M', 'address': '52, rue de Renard\\n83799 Mathieu', 'mail': 'andre33@yahoo.fr', 'birthdate': '2002-04-27'}\n",
      "{'_id': ObjectId('6424d08f97d5a1ad8d2db20f'), 'job': 'dessinateur de BD', 'company': 'Blot Bodin et Fils', 'ssn': '293064315703212', 'residence': 'rue Charlotte Legros\\n69545 Aubry-sur-Louis', 'current_location': [-54.522669, -44.815669], 'blood_group': 'B+', 'website': ['http://lelievre.fr/', 'http://gillet.org/', 'http://www.vidal.fr/', 'https://clerc.com/'], 'username': 'margauxbrunel', 'name': 'Claire Thibault', 'sex': 'F', 'address': '7, rue Martin\\n97918 De Sousa-sur-Martins', 'mail': 'qbourgeois@hotmail.fr', 'birthdate': '1963-01-23'}\n",
      "{'_id': ObjectId('6424d08f97d5a1ad8d2db210'), 'job': 'gardien de la paix', 'company': 'Pinto', 'ssn': '119093818511043', 'residence': '71, boulevard de Vasseur\\n47374 Lagarde-les-Bains', 'current_location': [69.9107785, -55.269278], 'blood_group': 'A-', 'website': ['http://launay.fr/'], 'username': 'ccharrier', 'name': 'Guy Hervé', 'sex': 'M', 'address': '97, boulevard Georges\\n99137 Descamps-sur-Humbert', 'mail': 'elisabeth50@dbmail.com', 'birthdate': '1984-12-09'}\n",
      "{'_id': ObjectId('6424d08f97d5a1ad8d2db211'), 'job': 'tonnelier', 'company': 'Pires', 'ssn': '122092309632936', 'residence': '58, chemin Moreno\\n38146 Pereira', 'current_location': [-32.6167355, 39.405197], 'blood_group': 'A-', 'website': ['http://poulain.fr/', 'https://renault.net/', 'https://www.remy.com/', 'http://lebreton.fr/'], 'username': 'hugues67', 'name': 'Paulette-Julie Julien', 'sex': 'F', 'address': '6, chemin Thérèse Weiss\\n32714 Samson-sur-Mer', 'mail': 'margotlopes@tele2.fr', 'birthdate': '2000-12-14'}\n",
      "{'_id': ObjectId('6424d08f97d5a1ad8d2db212'), 'job': 'parfumeur', 'company': 'Torres Leroy SA', 'ssn': '220013818574554', 'residence': '69, avenue de Antoine\\n73879 Saint Sabinenec', 'current_location': [-77.732694, -28.63059], 'blood_group': 'O+', 'website': ['http://henry.fr/', 'https://traore.fr/', 'https://www.godard.fr/', 'https://www.gomes.fr/'], 'username': 'tmonnier', 'name': 'Matthieu Deschamps', 'sex': 'M', 'address': '2, rue Laporte\\n37959 Roy-sur-Ferreira', 'mail': 'alixcoste@live.com', 'birthdate': '2003-05-22'}\n",
      "{'_id': ObjectId('6424d08f97d5a1ad8d2db213'), 'job': \"facteur d'instruments\", 'company': 'Pons S.A.R.L.', 'ssn': '133040810517297', 'residence': '6, rue Roger\\n90772 Gilles', 'current_location': [81.6844215, 118.280756], 'blood_group': 'B+', 'website': ['https://fleury.fr/', 'http://www.ramos.fr/', 'http://morvan.org/'], 'username': 'xmorel', 'name': 'Nathalie Becker', 'sex': 'F', 'address': '13, chemin Pascal\\n86067 Alexandre', 'mail': 'xavier19@tele2.fr', 'birthdate': '1990-12-07'}\n",
      "{'_id': ObjectId('6424d08f97d5a1ad8d2db214'), 'job': 'contremaître', 'company': 'Fernandes', 'ssn': '293037919133792', 'residence': '91, chemin Margot Perret\\n00074 Renault', 'current_location': [38.0082265, 104.550014], 'blood_group': 'A-', 'website': ['http://prevost.fr/', 'http://le.com/', 'http://www.royer.com/', 'https://delaunay.fr/'], 'username': 'guilloumargot', 'name': 'Isaac Didier', 'sex': 'M', 'address': '45, rue Suzanne Hebert\\n71936 Legros-sur-Pineau', 'mail': 'jacquelinerousset@dbmail.com', 'birthdate': '2007-08-12'}\n",
      "{'_id': ObjectId('6424d08f97d5a1ad8d2db215'), 'job': 'éducateur canin canine', 'company': 'Morvan', 'ssn': '104111411867788', 'residence': '47, avenue de Mary\\n43869 JacquetVille', 'current_location': [33.746096, 155.390421], 'blood_group': 'B-', 'website': ['http://delaunay.fr/', 'https://ramos.fr/'], 'username': 'mduhamel', 'name': 'Amélie de la Pottier', 'sex': 'F', 'address': '40, chemin Sauvage\\n43357 Jacquot', 'mail': 'chantalgilbert@noos.fr', 'birthdate': '1969-06-05'}\n",
      "{'_id': ObjectId('6424d08f97d5a1ad8d2db216'), 'job': 'opérateur de fabrication de produits alimentaires', 'company': 'Maillot', 'ssn': '144043306311407', 'residence': '41, boulevard Hebert\\n75657 Mahe', 'current_location': [-45.2767495, -144.2517], 'blood_group': 'AB-', 'website': ['http://jacquot.com/'], 'username': 'mpoirier', 'name': 'Anouk Monnier', 'sex': 'F', 'address': '46, chemin Noël Carlier\\n30025 Saint Odette', 'mail': 'mauricebodin@live.com', 'birthdate': '1930-06-15'}\n",
      "{'_id': ObjectId('6424d09097d5a1ad8d2db217'), 'job': 'enseignant de la conduite automobile et de la sécurité routière', 'company': 'Leduc S.A.', 'ssn': '203079761126093', 'residence': '19, boulevard Alfred Charpentier\\n30438 Allain', 'current_location': [72.7958235, 23.517193], 'blood_group': 'O-', 'website': ['http://hardy.fr/', 'https://www.picard.fr/', 'http://www.paul.net/', 'http://legrand.com/'], 'username': 'dchauveau', 'name': 'Eugène Lemaître de Marin', 'sex': 'M', 'address': '162, avenue Frédérique François\\n50512 TraoreVille', 'mail': 'fpierre@club-internet.fr', 'birthdate': '1965-06-20'}\n",
      "{'_id': ObjectId('6424d09097d5a1ad8d2db218'), 'job': 'technicien en automatismes', 'company': 'Laurent S.A.S.', 'ssn': '159066005759124', 'residence': '31, chemin Arnaude Joly\\n07540 Bouvierdan', 'current_location': [-10.802803, 55.438647], 'blood_group': 'AB-', 'website': ['http://www.bourgeois.com/', 'http://www.hoarau.fr/'], 'username': 'virginie11', 'name': 'Roland Alexandre', 'sex': 'M', 'address': '836, chemin Fernandez\\n33865 Letellier', 'mail': 'adenis@sfr.fr', 'birthdate': '1912-02-02'}\n",
      "{'_id': ObjectId('6424d09097d5a1ad8d2db219'), 'job': \"responsable d'élevage agricole\", 'company': 'Moulin S.A.', 'ssn': '112093201304253', 'residence': 'chemin Leroy\\n30742 Bonneau-sur-Faivre', 'current_location': [45.629438, 17.980388], 'blood_group': 'A+', 'website': ['https://rodriguez.fr/', 'https://paul.com/', 'http://www.gaudin.com/', 'http://www.sauvage.com/'], 'username': 'christianeguyot', 'name': 'Isaac de Laroche', 'sex': 'M', 'address': '9, avenue de Pruvost\\n85090 Gilbert', 'mail': 'wmahe@gmail.com', 'birthdate': '1968-04-23'}\n",
      "{'_id': ObjectId('6424d09097d5a1ad8d2db21a'), 'job': \"formateur d'adultes\", 'company': 'Poirier', 'ssn': '292089761184018', 'residence': '601, rue Augustin Pelletier\\n11061 Saint Manon-les-Bains', 'current_location': [-66.066781, -103.87726], 'blood_group': 'B-', 'website': ['https://ferreira.org/', 'https://www.lamy.com/', 'https://hebert.com/', 'http://www.fabre.org/'], 'username': 'iantoine', 'name': 'Mathilde Guyon', 'sex': 'F', 'address': '363, boulevard Françoise Lévêque\\n70235 Coulon-les-Bains', 'mail': 'genevieve74@voila.fr', 'birthdate': '2002-11-21'}\n",
      "{'_id': ObjectId('6424d09097d5a1ad8d2db21b'), 'job': 'technicien céramiste', 'company': 'Barre Meyer S.A.', 'ssn': '255045313003947', 'residence': 'chemin Laetitia Leconte\\n07692 Saint Christiane-sur-Mer', 'current_location': [76.553086, -104.305218], 'blood_group': 'AB+', 'website': ['https://www.roger.com/', 'http://potier.com/', 'https://www.gauthier.fr/', 'http://www.vallet.com/'], 'username': 'jacques31', 'name': 'Chantal Verdier', 'sex': 'F', 'address': '97, avenue Dominique Mercier\\n07316 Fischer', 'mail': 'phenry@wanadoo.fr', 'birthdate': '1993-02-18'}\n",
      "{'_id': ObjectId('6424d09097d5a1ad8d2db21c'), 'job': 'opérateur de fabrication de produits alimentaires', 'company': 'Ferreira', 'ssn': '195069205032308', 'residence': 'rue Mathieu\\n49749 Delattre-les-Bains', 'current_location': [49.6089685, -78.418069], 'blood_group': 'O+', 'website': ['http://renaud.net/', 'https://www.gimenez.fr/'], 'username': 'richard94', 'name': 'Noémi Philippe', 'sex': 'F', 'address': '86, rue Stéphane Dos Santos\\n23394 Perrot', 'mail': 'daniellepages@gmail.com', 'birthdate': '2000-05-10'}\n",
      "{'_id': ObjectId('6424d09097d5a1ad8d2db21d'), 'job': 'relieur-doreur', 'company': 'Pelletier', 'ssn': '222065746321159', 'residence': '12, rue Pascal\\n28045 Marchand', 'current_location': [-72.1829735, -53.848246], 'blood_group': 'AB-', 'website': ['http://garnier.com/'], 'username': 'mdupuis', 'name': 'Nathalie Guyon-Caron', 'sex': 'F', 'address': 'avenue de Rousseau\\n73493 Pons', 'mail': 'amelie96@sfr.fr', 'birthdate': '2011-12-05'}\n",
      "{'_id': ObjectId('6424d09097d5a1ad8d2db21e'), 'job': 'responsable de laboratoire de recherche', 'company': 'Lefebvre', 'ssn': '183039710540935', 'residence': 'avenue Riou\\n18635 Leduc', 'current_location': [62.2823195, -57.76213], 'blood_group': 'B+', 'website': ['http://fernandes.org/', 'http://pelletier.fr/', 'https://www.ollivier.org/'], 'username': 'helene71', 'name': 'Frédérique-Marianne Berthelot', 'sex': 'F', 'address': 'boulevard Denis Allard\\n74644 Regnier', 'mail': 'lecoqsebastien@tiscali.fr', 'birthdate': '1924-06-28'}\n",
      "{'_id': ObjectId('6424d09097d5a1ad8d2db21f'), 'job': 'ingénieur support', 'company': 'Mace', 'ssn': '103119550068661', 'residence': 'rue Lebrun\\n60556 Arnaudboeuf', 'current_location': [18.1479625, 31.792582], 'blood_group': 'B-', 'website': ['https://buisson.org/', 'http://www.petitjean.org/'], 'username': 'chartierdenis', 'name': 'Guillaume Ferrand', 'sex': 'M', 'address': '4, boulevard Couturier\\n56682 Sainte Emmanuelledan', 'mail': 'teixeiradominique@voila.fr', 'birthdate': '1959-02-20'}\n",
      "{'_id': ObjectId('6424d09097d5a1ad8d2db220'), 'job': \"ingénieur d'application\", 'company': 'Prévost', 'ssn': '247110105334579', 'residence': '986, rue Maurice Lefort\\n16694 Saint Davidnec', 'current_location': [54.7180955, -112.060376], 'blood_group': 'O+', 'website': ['https://laporte.net/'], 'username': 'bourdonarnaude', 'name': 'Gabriel Petitjean', 'sex': 'M', 'address': '94, chemin Berger\\n54864 Sainte Aiméenec', 'mail': 'mariegimenez@dbmail.com', 'birthdate': '1938-11-28'}\n",
      "{'_id': ObjectId('6424d09097d5a1ad8d2db221'), 'job': 'ingénieur télécoms et réseaux', 'company': 'Chevallier', 'ssn': '262087919173433', 'residence': '684, avenue Lecomte\\n02722 Sainte Colette-la-Forêt', 'current_location': [-61.5323035, -85.663161], 'blood_group': 'A-', 'website': ['http://www.hernandez.org/', 'http://buisson.net/'], 'username': 'inesmunoz', 'name': 'Éric Pottier de la Regnier', 'sex': 'M', 'address': '3, rue de Lecomte\\n21009 Michel-sur-Bernier', 'mail': 'ogillet@hotmail.fr', 'birthdate': '1918-09-23'}\n",
      "{'_id': ObjectId('6424d09097d5a1ad8d2db222'), 'job': 'gestionnaire de patrimoine', 'company': 'Muller', 'ssn': '188115819415609', 'residence': 'chemin de Carpentier\\n24542 Texierboeuf', 'current_location': [-12.751736, -125.568963], 'blood_group': 'O+', 'website': ['http://peron.com/', 'http://www.jacquet.com/'], 'username': 'diazanais', 'name': 'Yves Le Gall', 'sex': 'M', 'address': '75, rue Chartier\\n56864 David', 'mail': 'halbert@dbmail.com', 'birthdate': '1991-04-25'}\n",
      "{'_id': ObjectId('6424d09097d5a1ad8d2db223'), 'job': 'chargé de production', 'company': 'Jacob Navarro et Fils', 'ssn': '162122123147890', 'residence': '77, rue Noémi Dubois\\n18648 Jacob', 'current_location': [85.688426, 43.613465], 'blood_group': 'A-', 'website': ['https://www.charrier.fr/', 'https://petit.net/', 'https://www.bousquet.com/'], 'username': 'ede-oliveira', 'name': 'Daniel Imbert', 'sex': 'M', 'address': 'chemin Emmanuelle Ferreira\\n91395 Lerouxboeuf', 'mail': 'parisjeanne@gmail.com', 'birthdate': '1920-08-05'}\n",
      "{'_id': ObjectId('6424d09097d5a1ad8d2db224'), 'job': 'garde (chasse, pêche, littoral, rivière, parcs nationaux)', 'company': 'Munoz', 'ssn': '166049550005119', 'residence': '261, avenue Maillet\\n75288 Germainboeuf', 'current_location': [-72.6021535, 52.000767], 'blood_group': 'B-', 'website': ['http://www.carre.fr/', 'http://www.baron.fr/'], 'username': 'edithgomez', 'name': 'Édith Lagarde', 'sex': 'F', 'address': '743, rue Merle\\n84497 Saint Aurore-la-Forêt', 'mail': 'vincentrobert@voila.fr', 'birthdate': '1948-03-06'}\n",
      "{'_id': ObjectId('6424d09097d5a1ad8d2db225'), 'job': 'analyste financier', 'company': 'Weber S.A.R.L.', 'ssn': '249040810528820', 'residence': '56, rue Mendès\\n41414 Parent-sur-Marty', 'current_location': [15.8585065, -84.151637], 'blood_group': 'O+', 'website': ['http://devaux.org/', 'https://www.begue.com/'], 'username': 'aurelie33', 'name': 'Christelle Normand', 'sex': 'F', 'address': '8, chemin de Boulay\\n05917 Marion', 'mail': 'renee63@club-internet.fr', 'birthdate': '1985-12-01'}\n",
      "{'_id': ObjectId('6424d09097d5a1ad8d2db226'), 'job': \"coordonnateur d'études cliniques\", 'company': 'Hebert', 'ssn': '224037055014327', 'residence': '648, chemin de Lombard\\n73341 Laporte', 'current_location': [43.5976895, 7.027658], 'blood_group': 'AB-', 'website': ['http://www.guillou.org/'], 'username': 'helenemercier', 'name': 'Alexandre Traore', 'sex': 'M', 'address': 'chemin Sabine Bonnin\\n88718 Chevalier-la-Forêt', 'mail': 'dorotheeauger@wanadoo.fr', 'birthdate': '1910-06-02'}\n",
      "{'_id': ObjectId('6424d09097d5a1ad8d2db227'), 'job': 'avocat', 'company': 'Hoarau Allard S.A.R.L.', 'ssn': '144013155591866', 'residence': '8, boulevard de Pierre\\n42700 Dijoux', 'current_location': [-68.88947, -100.511792], 'blood_group': 'A-', 'website': ['https://leconte.fr/', 'https://www.moreau.fr/', 'http://www.perrier.fr/', 'https://bouvier.com/'], 'username': 'wroux', 'name': 'Gabrielle Bonnet', 'sex': 'F', 'address': '7, boulevard Gallet\\n92349 Sainte Pierre', 'mail': 'thomaslucie@tiscali.fr', 'birthdate': '1963-01-12'}\n",
      "{'_id': ObjectId('6424d09097d5a1ad8d2db228'), 'job': 'entraîneur sportif sportive', 'company': 'Ramos', 'ssn': '285101601507975', 'residence': '94, chemin Jourdan\\n10919 Aubert-sur-Mer', 'current_location': [-48.538535, -92.575047], 'blood_group': 'AB-', 'website': ['http://www.bouvet.fr/', 'https://aubry.com/', 'http://www.dos.com/', 'http://turpin.net/'], 'username': 'lucasclement', 'name': 'Hugues Humbert', 'sex': 'M', 'address': '86, avenue Labbé\\n45292 Dos Santos-la-Forêt', 'mail': 'jeanbourgeois@noos.fr', 'birthdate': '2021-10-08'}\n",
      "{'_id': ObjectId('6424d09097d5a1ad8d2db229'), 'job': 'expert automobile', 'company': 'Briand SARL', 'ssn': '204037505693460', 'residence': '376, boulevard Dos Santos\\n34322 Hervé', 'current_location': [23.621615, -82.266956], 'blood_group': 'O-', 'website': ['http://guillaume.com/', 'https://pons.fr/'], 'username': 'andree53', 'name': 'Thomas Labbé du Lecoq', 'sex': 'M', 'address': '92, rue de Schmitt\\n76549 Clément', 'mail': 'sdijoux@tele2.fr', 'birthdate': '1937-04-25'}\n",
      "{'_id': ObjectId('6424d09097d5a1ad8d2db22a'), 'job': 'ingénieur combustion et brûleurs', 'company': 'Bègue Cousin S.A.S.', 'ssn': '148024900749564', 'residence': '38, boulevard Charpentier\\n69989 Bègue', 'current_location': [45.7569235, -80.881309], 'blood_group': 'B+', 'website': ['http://www.michaud.fr/', 'http://ollivier.com/', 'http://www.hamel.com/', 'https://www.barbier.fr/'], 'username': 'maurice67', 'name': 'Colette Joseph', 'sex': 'F', 'address': 'avenue de Laine\\n06612 Saint Laurencenec', 'mail': 'mthierry@club-internet.fr', 'birthdate': '1951-01-12'}\n",
      "{'_id': ObjectId('6424d09097d5a1ad8d2db22b'), 'job': 'assistant commercial commerciale', 'company': 'Munoz', 'ssn': '198054809561570', 'residence': '642, boulevard Thibault Hernandez\\n92848 Meyer-sur-Mer', 'current_location': [34.0417675, 68.654668], 'blood_group': 'AB+', 'website': ['http://neveu.net/'], 'username': 'moniquechretien', 'name': 'Thibaut Pages Le Adam', 'sex': 'M', 'address': '8, rue de Bègue\\n28911 Leclercq-sur-Vallet', 'mail': 'fleuryadele@laposte.net', 'birthdate': '1981-05-10'}\n",
      "{'_id': ObjectId('6424d09097d5a1ad8d2db22c'), 'job': 'consultant en validation', 'company': 'Riou', 'ssn': '214090608840036', 'residence': '89, rue Turpin\\n00915 Saint Denis', 'current_location': [85.141409, -60.601775], 'blood_group': 'A-', 'website': ['http://cordier.com/', 'http://lesage.fr/'], 'username': 'wleroy', 'name': 'Richard Boulay', 'sex': 'M', 'address': '1, rue de Vidal\\n29159 Thomas', 'mail': 'marcellejacquot@free.fr', 'birthdate': '1910-07-06'}\n",
      "{'_id': ObjectId('6424d09097d5a1ad8d2db22d'), 'job': 'professeur de musique et de danse', 'company': 'François', 'ssn': '100096100121446', 'residence': '53, boulevard de Lecoq\\n54520 LopezBourg', 'current_location': [80.7245555, 52.904153], 'blood_group': 'B-', 'website': ['http://rey.fr/', 'http://www.ferreira.com/'], 'username': 'vmartinez', 'name': 'Yves Normand Le Leclercq', 'sex': 'M', 'address': '26, rue Victor Georges\\n21297 Roy', 'mail': 'wbouvet@hotmail.fr', 'birthdate': '1982-04-18'}\n",
      "{'_id': ObjectId('6424d09097d5a1ad8d2db22e'), 'job': 'médiateur familial familiale', 'company': 'Aubry S.A.S.', 'ssn': '266101106954723', 'residence': '99, chemin Luc Delaunay\\n88613 Pichon-sur-Hervé', 'current_location': [74.277675, -119.238172], 'blood_group': 'O+', 'website': ['http://www.lagarde.com/', 'http://www.rousset.fr/', 'http://www.gosselin.com/', 'http://www.labbe.org/'], 'username': 'sophie79', 'name': 'Paul Arnaud', 'sex': 'M', 'address': 'chemin Diane Caron\\n80661 Toussaint-la-Forêt', 'mail': 'georgeslemoine@noos.fr', 'birthdate': '1936-12-16'}\n",
      "{'_id': ObjectId('6424d09097d5a1ad8d2db22f'), 'job': 'chef de chantier en installations électriques', 'company': 'Hubert S.A.R.L.', 'ssn': '123077306542917', 'residence': '324, boulevard Susan Pinto\\n96375 Malletdan', 'current_location': [-84.0557655, 122.869048], 'blood_group': 'B+', 'website': ['https://www.marchand.net/', 'https://prevost.com/', 'https://www.guichard.com/', 'http://www.bruneau.fr/'], 'username': 'alain68', 'name': 'Aimée Gay', 'sex': 'F', 'address': '8, chemin Franck Philippe\\n84819 Georges', 'mail': 'morvanjeanne@club-internet.fr', 'birthdate': '1955-06-12'}\n",
      "{'_id': ObjectId('6424d09097d5a1ad8d2db230'), 'job': 'diagnostiqueur immobilier', 'company': 'Laurent', 'ssn': '139070608809309', 'residence': 'chemin Olivier\\n53218 Garnierdan', 'current_location': [8.2116735, 173.362945], 'blood_group': 'B-', 'website': ['http://www.evrard.org/'], 'username': 'valettedaniel', 'name': 'Suzanne Henry', 'sex': 'F', 'address': '888, avenue Pereira\\n10773 Saint Zoédan', 'mail': 'rpetit@wanadoo.fr', 'birthdate': '1965-08-15'}\n",
      "{'_id': ObjectId('6424d09097d5a1ad8d2db231'), 'job': 'psychologue', 'company': 'Bertin Foucher SARL', 'ssn': '215124809506890', 'residence': '24, avenue Thierry Valentin\\n71553 Ruiz', 'current_location': [86.3789375, -104.192346], 'blood_group': 'B+', 'website': ['https://www.fernandes.org/', 'http://www.camus.org/', 'http://www.laurent.fr/', 'http://charpentier.fr/'], 'username': 'madeleine62', 'name': 'Emmanuel du Rodriguez', 'sex': 'M', 'address': '71, chemin Laurent\\n12550 Allainboeuf', 'mail': 'philippeguichard@orange.fr', 'birthdate': '1938-10-04'}\n",
      "{'_id': ObjectId('6424d09097d5a1ad8d2db232'), 'job': \"sous-officier de l'armée de l'air\", 'company': 'Besson S.A.S.', 'ssn': '190045935012471', 'residence': '3, chemin de Martel\\n09160 LefebvreVille', 'current_location': [33.532959, 92.287172], 'blood_group': 'AB-', 'website': ['https://bourdon.fr/', 'http://www.guyon.net/'], 'username': 'fjacques', 'name': 'Adrien-Léon Thierry', 'sex': 'M', 'address': 'rue de Thibault\\n68991 Sainte Geneviève', 'mail': 'philippemarie@tele2.fr', 'birthdate': '1960-12-12'}\n",
      "{'_id': ObjectId('6424d09097d5a1ad8d2db233'), 'job': 'responsable de formation', 'company': 'Chevalier S.A.S.', 'ssn': '283074101840702', 'residence': '771, rue Marine François\\n50618 David-sur-Langlois', 'current_location': [30.3017185, 57.796145], 'blood_group': 'O+', 'website': ['http://masson.net/', 'https://www.robert.net/'], 'username': 'benoit36', 'name': 'Paulette Delmas', 'sex': 'F', 'address': '8, chemin Margot Blondel\\n45229 Jacques-sur-Maréchal', 'mail': 'baillydenise@dbmail.com', 'birthdate': '1951-07-25'}\n",
      "{'_id': ObjectId('6424d09097d5a1ad8d2db234'), 'job': 'directeur de magasin à grande surface', 'company': 'Brunet', 'ssn': '257121601561966', 'residence': '76, boulevard Mahe\\n52323 Benard', 'current_location': [-42.0621935, -4.323538], 'blood_group': 'A-', 'website': ['http://lemonnier.com/', 'https://www.bernard.com/', 'http://www.barthelemy.com/'], 'username': 'fchauvin', 'name': 'Roger Guillou', 'sex': 'M', 'address': '58, chemin de Delattre\\n27286 Perrot-sur-Mer', 'mail': 'morelmanon@free.fr', 'birthdate': '2021-11-07'}\n",
      "{'_id': ObjectId('6424d09097d5a1ad8d2db235'), 'job': 'serrurier dépanneur dépanneuse', 'company': 'Fabre', 'ssn': '293108212162889', 'residence': '81, avenue de Auger\\n16347 Torres', 'current_location': [66.3715915, 59.262403], 'blood_group': 'AB+', 'website': ['http://allain.net/', 'http://www.masson.org/', 'http://www.marchal.com/', 'https://www.barre.fr/'], 'username': 'bdijoux', 'name': 'Daniel Hoareau de la Alves', 'sex': 'M', 'address': '2, boulevard Isaac Boulanger\\n77566 Masson-les-Bains', 'mail': 'marthe34@laposte.net', 'birthdate': '1988-10-17'}\n",
      "{'_id': ObjectId('6424d09097d5a1ad8d2db236'), 'job': 'statisticien en géomarketing', 'company': 'Lopes Legros S.A.', 'ssn': '291048708563163', 'residence': '4, boulevard de Moreno\\n39770 Bodin-sur-Mer', 'current_location': [-32.010185, 83.493703], 'blood_group': 'B-', 'website': ['https://dubois.fr/', 'http://www.camus.com/'], 'username': 'philippineguillot', 'name': 'Michelle Lecomte de la Pineau', 'sex': 'F', 'address': '2, boulevard de Vaillant\\n53527 Jacquet', 'mail': 'dlegrand@club-internet.fr', 'birthdate': '2000-04-11'}\n",
      "{'_id': ObjectId('6424d09097d5a1ad8d2db237'), 'job': 'technicien réalisateur réalisatrice radio', 'company': 'Bègue', 'ssn': '285038519165603', 'residence': '7, rue de Gallet\\n23686 Leconte', 'current_location': [-50.7024575, 171.38727], 'blood_group': 'AB+', 'website': ['http://mary.com/', 'http://www.roy.net/'], 'username': 'slebon', 'name': 'Alexandre-Thibaut Dupuis', 'sex': 'M', 'address': '68, rue de Guillaume\\n18846 Baron', 'mail': 'nathalie77@yahoo.fr', 'birthdate': '1912-05-14'}\n",
      "{'_id': ObjectId('6424d09097d5a1ad8d2db238'), 'job': 'chargé de valorisation de la recherche', 'company': 'Bonnet', 'ssn': '211102923289796', 'residence': '68, rue Virginie Lesage\\n26844 Hamel', 'current_location': [-80.1165965, -79.764933], 'blood_group': 'O-', 'website': ['https://www.diallo.fr/', 'http://marechal.com/', 'https://www.mary.com/', 'http://www.blanchet.com/'], 'username': 'delmastristan', 'name': 'Gabriel Texier', 'sex': 'M', 'address': '2, chemin Guy Labbé\\n52982 Saint Julie', 'mail': 'hebertvirginie@noos.fr', 'birthdate': '1982-09-10'}\n",
      "{'_id': ObjectId('6424d09097d5a1ad8d2db239'), 'job': \"designer d'interaction\", 'company': 'De Oliveira', 'ssn': '243062309645445', 'residence': '46, rue Peron\\n91730 Saint Christophe', 'current_location': [-44.8788615, -60.450546], 'blood_group': 'A+', 'website': ['http://www.clement.fr/', 'https://www.blondel.org/', 'https://www.bourgeois.net/', 'https://www.raynaud.fr/'], 'username': 'michellebonneau', 'name': 'Jean Lucas-Rocher', 'sex': 'M', 'address': '86, rue de Neveu\\n34443 Lucas', 'mail': 'rousselraymond@tele2.fr', 'birthdate': '1970-02-17'}\n",
      "{'_id': ObjectId('6424d09097d5a1ad8d2db23a'), 'job': 'ingénieur en caractérisation des matériaux', 'company': 'Bouvier', 'ssn': '238086806661243', 'residence': '4, avenue Frédéric Delannoy\\n65709 Chartier', 'current_location': [-66.277748, 120.073973], 'blood_group': 'O-', 'website': ['http://peltier.fr/', 'https://www.perez.com/'], 'username': 'lucedelorme', 'name': 'Sébastien Fabre', 'sex': 'M', 'address': '49, rue de Lemaître\\n82499 Delannoy-la-Forêt', 'mail': 'verdieralex@club-internet.fr', 'birthdate': '1977-10-04'}\n",
      "{'_id': ObjectId('6424d09097d5a1ad8d2db23b'), 'job': 'guide de haute montagne', 'company': 'Diallo', 'ssn': '236025212107642', 'residence': 'rue Julie Vasseur\\n17354 Meyer-la-Forêt', 'current_location': [-62.9185705, -118.153283], 'blood_group': 'O-', 'website': ['https://www.lemaitre.com/', 'https://fabre.fr/', 'https://boyer.org/'], 'username': 'olivie65', 'name': 'Margaret Guyot', 'sex': 'F', 'address': 'boulevard Marcel Lecoq\\n93039 Chevaliernec', 'mail': 'thibautfernandez@orange.fr', 'birthdate': '1986-12-27'}\n",
      "{'_id': ObjectId('6424d09097d5a1ad8d2db23c'), 'job': 'ergothérapeute', 'company': 'Perez', 'ssn': '182125502996678', 'residence': '93, chemin Schmitt\\n17349 Traore', 'current_location': [65.902699, -159.592729], 'blood_group': 'B-', 'website': ['https://legros.fr/'], 'username': 'martin93', 'name': 'Élodie Guérin', 'sex': 'F', 'address': '66, avenue Nathalie Da Silva\\n77487 Gillet', 'mail': 'patricia54@free.fr', 'birthdate': '1950-04-18'}\n",
      "{'_id': ObjectId('6424d09097d5a1ad8d2db23d'), 'job': 'statisticien industriel industrielle', 'company': 'Lebreton François S.A.', 'ssn': '167117401037092', 'residence': 'avenue de Nicolas\\n98514 Léger-les-Bains', 'current_location': [-3.575747, -137.425014], 'blood_group': 'O+', 'website': ['https://allard.org/'], 'username': 'humbertveronique', 'name': 'Alexandria-Charlotte Fleury', 'sex': 'F', 'address': '8, boulevard Pierre Marion\\n28843 Merle', 'mail': 'thereseblot@gmail.com', 'birthdate': '1993-09-09'}\n",
      "{'_id': ObjectId('6424d09097d5a1ad8d2db23e'), 'job': 'officier marinier marinière', 'company': 'Pelletier et Fils', 'ssn': '124119402849524', 'residence': '829, avenue de Michaud\\n28075 LouisBourg', 'current_location': [-48.067843, 134.583008], 'blood_group': 'AB+', 'website': ['https://www.de.fr/', 'https://herve.com/'], 'username': 'jeanhamon', 'name': 'Jeanne Lopes du Mary', 'sex': 'F', 'address': '14, avenue Jacquot\\n83608 Dupuy', 'mail': 'thierryaime@gmail.com', 'birthdate': '1983-07-02'}\n",
      "{'_id': ObjectId('6424d09097d5a1ad8d2db23f'), 'job': 'conseiller espace info-énergie', 'company': 'Leroux', 'ssn': '271103726194992', 'residence': '83, rue Emmanuel Brunel\\n90003 Rolland-la-Forêt', 'current_location': [47.070608, -126.514538], 'blood_group': 'O-', 'website': ['http://rolland.net/'], 'username': 'lorrainemartel', 'name': 'Matthieu-Victor Lenoir', 'sex': 'M', 'address': '95, chemin Olivier\\n26175 Jacob', 'mail': 'henriette17@ifrance.com', 'birthdate': '1971-03-08'}\n",
      "{'_id': ObjectId('6424d09097d5a1ad8d2db240'), 'job': 'chargé des méthodes outils et qualité en informatique', 'company': 'Bigot', 'ssn': '241012227875750', 'residence': '28, boulevard Gauthier\\n11622 Dos Santosnec', 'current_location': [-31.0998885, 159.807241], 'blood_group': 'AB+', 'website': ['https://www.turpin.com/', 'https://www.lefevre.com/', 'https://www.mahe.fr/', 'http://alexandre.org/'], 'username': 'bigotjules', 'name': 'William Lamy de la Lombard', 'sex': 'M', 'address': '48, chemin de Jacob\\n94919 Saint JulietteBourg', 'mail': 'samsonnoel@tele2.fr', 'birthdate': '1925-08-31'}\n",
      "{'_id': ObjectId('6424d09097d5a1ad8d2db241'), 'job': 'ingénieur mathématicien', 'company': 'Chartier', 'ssn': '180036806674256', 'residence': '70, boulevard Théodore Pichon\\n56538 Sainte Nath', 'current_location': [58.382637, 104.250963], 'blood_group': 'AB+', 'website': ['https://www.robert.fr/', 'http://www.chauveau.net/', 'https://hernandez.com/', 'https://delattre.fr/'], 'username': 'tlevy', 'name': 'Guillaume Simon-Diallo', 'sex': 'M', 'address': '66, chemin Boucher\\n08533 Rivière', 'mail': 'zchauvin@laposte.net', 'birthdate': '1937-08-24'}\n",
      "{'_id': ObjectId('6424d09097d5a1ad8d2db242'), 'job': 'formateur technique en agroéquipement', 'company': 'Le Roux', 'ssn': '233086005702404', 'residence': '628, rue de Vincent\\n22621 Reynaud-sur-Pires', 'current_location': [40.0360355, -176.305462], 'blood_group': 'B+', 'website': ['http://berger.com/', 'http://lemoine.com/', 'http://allain.fr/', 'https://michel.fr/'], 'username': 'elisabethbrunel', 'name': 'Denis de la Wagner', 'sex': 'M', 'address': '87, chemin de Masson\\n76234 Da Costa', 'mail': 'ruizwilliam@live.com', 'birthdate': '1924-09-21'}\n",
      "{'_id': ObjectId('6424d09097d5a1ad8d2db243'), 'job': 'anesthésiste-réanimateur', 'company': 'Valentin', 'ssn': '233071601508349', 'residence': '83, rue de Lacroix\\n91043 Ribeiro', 'current_location': [-74.021718, -59.710622], 'blood_group': 'A-', 'website': ['https://www.lebrun.com/'], 'username': 'danielledubois', 'name': 'Gilles Adam', 'sex': 'M', 'address': '47, rue de Lagarde\\n09880 David', 'mail': 'grosagathe@gmail.com', 'birthdate': '2006-01-09'}\n",
      "{'_id': ObjectId('6424d09097d5a1ad8d2db244'), 'job': \"chef d'exploitation des remontées mécaniques\", 'company': 'Marchand', 'ssn': '163011501492378', 'residence': '90, avenue Laurent\\n56670 Le Goff-sur-Delattre', 'current_location': [-83.527221, 80.932235], 'blood_group': 'O-', 'website': ['http://www.giraud.fr/'], 'username': 'monique75', 'name': 'Corinne-Lorraine Masson', 'sex': 'F', 'address': '24, avenue Baron\\n69169 Charlesboeuf', 'mail': 'le-goffcolette@club-internet.fr', 'birthdate': '1912-04-04'}\n",
      "{'_id': ObjectId('6424d09097d5a1ad8d2db245'), 'job': 'orthoptiste', 'company': 'Guyon', 'ssn': '158070718653039', 'residence': '15, avenue de Jean\\n01228 Gay', 'current_location': [6.594341, 7.810079], 'blood_group': 'AB+', 'website': ['http://www.martel.com/'], 'username': 'ysanchez', 'name': 'Émilie Leclercq', 'sex': 'F', 'address': '63, avenue de Hebert\\n63912 Alexandre-sur-Mer', 'mail': 'ctanguy@dbmail.com', 'birthdate': '2000-07-29'}\n",
      "{'_id': ObjectId('6424d09097d5a1ad8d2db246'), 'job': 'moniteur-éducateur', 'company': 'Joubert S.A.R.L.', 'ssn': '188099720955119', 'residence': '3, avenue Duval\\n27556 Benard', 'current_location': [-19.88746, -60.347888], 'blood_group': 'A-', 'website': ['http://www.bertrand.com/'], 'username': 'anne64', 'name': 'Antoine Lebrun', 'sex': 'M', 'address': '10, avenue Pascal\\n77654 Lacombe-sur-Boutin', 'mail': 'claude15@club-internet.fr', 'birthdate': '1931-02-23'}\n",
      "{'_id': ObjectId('6424d09097d5a1ad8d2db247'), 'job': 'conseiller en environnement', 'company': 'Perez Weiss S.A.S.', 'ssn': '265013417243713', 'residence': '562, rue Neveu\\n53624 Traore-la-Forêt', 'current_location': [40.0258735, 2.06299], 'blood_group': 'AB-', 'website': ['http://www.joubert.fr/', 'http://hardy.fr/', 'http://www.breton.fr/', 'http://www.blot.fr/'], 'username': 'qrocher', 'name': 'Lucie-Virginie Torres', 'sex': 'F', 'address': '6, avenue Benard\\n92858 Prévost', 'mail': 'ramosfrancois@orange.fr', 'birthdate': '1933-03-14'}\n",
      "{'_id': ObjectId('6424d09097d5a1ad8d2db248'), 'job': 'gérant de portefeuille', 'company': 'Alexandre', 'ssn': '153062309692408', 'residence': '360, chemin Colas\\n25581 Saint Tristan', 'current_location': [47.668609, 93.248749], 'blood_group': 'A+', 'website': ['https://www.dubois.com/', 'https://ledoux.fr/', 'http://www.neveu.com/', 'https://buisson.fr/'], 'username': 'cecile78', 'name': 'Yves Arnaud de Barthelemy', 'sex': 'M', 'address': 'rue Andrée Bernard\\n88323 Sainte Henri', 'mail': 'christianevalette@club-internet.fr', 'birthdate': '1932-11-07'}\n",
      "{'_id': ObjectId('6424d09097d5a1ad8d2db249'), 'job': 'ouvrier plasturgiste', 'company': 'Colas', 'ssn': '111010105370416', 'residence': '99, chemin de Marie\\n94342 Da Costa-sur-Giraud', 'current_location': [-30.615796, -123.574194], 'blood_group': 'O+', 'website': ['http://www.lemaire.net/', 'https://www.bazin.net/', 'http://neveu.org/', 'https://david.fr/'], 'username': 'inesdumont', 'name': 'Valentine Carre de Gilles', 'sex': 'F', 'address': '964, chemin de Leclercq\\n33450 Aubertdan', 'mail': 'tcolin@voila.fr', 'birthdate': '1994-03-06'}\n",
      "{'_id': ObjectId('6424d09097d5a1ad8d2db24a'), 'job': 'analyste financier', 'company': 'Parent Lebon SARL', 'ssn': '147025819452748', 'residence': '35, avenue de Collin\\n68031 Saint Margot-la-Forêt', 'current_location': [-51.598883, 35.233367], 'blood_group': 'A+', 'website': ['https://www.royer.com/'], 'username': 'maryaudrey', 'name': 'Thomas Dumont', 'sex': 'M', 'address': 'rue Garcia\\n75777 Alvesnec', 'mail': 'marydenise@sfr.fr', 'birthdate': '2002-04-26'}\n",
      "{'_id': ObjectId('6424d09097d5a1ad8d2db24b'), 'job': \"mécanicien d'entretien d'avion\", 'company': 'Laporte S.A.R.L.', 'ssn': '183114019251256', 'residence': '297, boulevard Boulanger\\n96962 Sainte Stéphane', 'current_location': [-7.1632325, 98.846351], 'blood_group': 'AB-', 'website': ['https://www.delorme.net/', 'https://www.pascal.com/', 'http://www.guichard.com/', 'http://www.hoareau.org/'], 'username': 'girardvirginie', 'name': 'Roland Maillard', 'sex': 'M', 'address': '5, rue Agnès Jacques\\n88516 Adam-sur-Jacquot', 'mail': 'suzannelaunay@yahoo.fr', 'birthdate': '1996-03-15'}\n",
      "{'_id': ObjectId('6424d09097d5a1ad8d2db24c'), 'job': 'administrateur de spectacle', 'company': 'Dumas', 'ssn': '212094410980612', 'residence': '35, avenue Hernandez\\n16253 Julien', 'current_location': [-34.7155045, 15.883775], 'blood_group': 'AB-', 'website': ['https://dubois.com/', 'http://www.loiseau.fr/', 'https://www.pineau.net/', 'http://guillon.com/'], 'username': 'benjaminbousquet', 'name': 'Antoine Pons', 'sex': 'M', 'address': '3, rue de Robin\\n04733 Sainte Pénélope', 'mail': 'dominique01@live.com', 'birthdate': '1985-12-11'}\n",
      "{'_id': ObjectId('6424d09097d5a1ad8d2db24d'), 'job': 'chaudronnier', 'company': 'Bouvier S.A.S.', 'ssn': '149093201383764', 'residence': '5, rue Thomas Baudry\\n37852 GiraudVille', 'current_location': [4.769729, 7.77924], 'blood_group': 'O+', 'website': ['https://alexandre.com/', 'https://charles.fr/'], 'username': 'tristanbenard', 'name': 'Jean Roux', 'sex': 'M', 'address': '83, chemin de Hardy\\n26812 Lacombe-sur-Bourdon', 'mail': 'da-costadenis@wanadoo.fr', 'birthdate': '1943-07-17'}\n",
      "{'_id': ObjectId('6424d09097d5a1ad8d2db24e'), 'job': 'assistant maternel maternelle', 'company': 'Thomas', 'ssn': '190013306313215', 'residence': 'boulevard Odette Berger\\n63326 Saint RogerVille', 'current_location': [-85.2486945, 89.520988], 'blood_group': 'O+', 'website': ['https://marty.org/', 'http://www.robert.com/', 'http://delahaye.org/'], 'username': 'frederiqueguillaume', 'name': 'Laurence Maurice', 'sex': 'F', 'address': '389, chemin de Blanc\\n97364 LegrandVille', 'mail': 'dnoel@free.fr', 'birthdate': '1927-03-23'}\n",
      "{'_id': ObjectId('6424d09097d5a1ad8d2db24f'), 'job': \"psychologue de l'éducation nationale spécialité éducation, développement et conseil en orientation scolaire et professionnelle\", 'company': 'Marion', 'ssn': '187039730287460', 'residence': '51, rue Audrey Perrot\\n93761 Gauthierdan', 'current_location': [-70.700247, -74.5219], 'blood_group': 'O-', 'website': ['http://pelletier.fr/', 'https://www.aubert.com/', 'http://gaillard.fr/', 'http://www.samson.org/'], 'username': 'bertrandaurelie', 'name': 'Brigitte-Stéphanie Robert', 'sex': 'F', 'address': '15, rue Lemoine\\n40592 Lebrun', 'mail': 'klanglois@wanadoo.fr', 'birthdate': '1912-12-26'}\n",
      "{'_id': ObjectId('6424d09097d5a1ad8d2db250'), 'job': 'biologiste en environnement', 'company': 'Delahaye', 'ssn': '226067919135015', 'residence': '134, avenue Ruiz\\n39939 Berger', 'current_location': [-11.8634505, 68.256385], 'blood_group': 'A+', 'website': ['https://dumont.com/'], 'username': 'benardalice', 'name': 'Bernard Perrot de la Berger', 'sex': 'M', 'address': '13, rue Pénélope Delmas\\n05416 Bertrand', 'mail': 'david40@dbmail.com', 'birthdate': '1959-01-23'}\n",
      "{'_id': ObjectId('6424d09097d5a1ad8d2db251'), 'job': 'ingénieur recherche et développement (R&amp;D) en agroéquipement', 'company': 'Bailly', 'ssn': '109058619441058', 'residence': '11, boulevard de Blondel\\n79857 GiraudBourg', 'current_location': [54.145255, -20.278311], 'blood_group': 'A-', 'website': ['https://jacques.fr/', 'https://regnier.fr/', 'https://www.potier.net/', 'http://www.collet.net/'], 'username': 'tnoel', 'name': 'Raymond Leroux', 'sex': 'M', 'address': 'chemin Suzanne Vallée\\n74662 Poirier-sur-Marion', 'mail': 'torresalix@free.fr', 'birthdate': '2005-08-01'}\n",
      "{'_id': ObjectId('6424d09097d5a1ad8d2db252'), 'job': 'dessinateur en construction mécanique', 'company': 'Coste', 'ssn': '276072722995553', 'residence': '20, avenue Munoz\\n02340 Marin-sur-Robert', 'current_location': [-81.934021, -32.446894], 'blood_group': 'O-', 'website': ['https://parent.com/', 'http://www.benoit.com/'], 'username': 'qbarthelemy', 'name': 'Charlotte Pages', 'sex': 'F', 'address': 'chemin de Guillou\\n59188 Leroydan', 'mail': 'aime32@laposte.net', 'birthdate': '1925-11-29'}\n",
      "{'_id': ObjectId('6424d09097d5a1ad8d2db253'), 'job': 'responsable de projets culturels', 'company': 'Collet', 'ssn': '180053018975530', 'residence': '372, boulevard de Clerc\\n28389 Sainte Guynec', 'current_location': [3.356853, 26.906259], 'blood_group': 'A+', 'website': ['http://petit.net/'], 'username': 'thibaultperrier', 'name': 'Honoré Prévost', 'sex': 'M', 'address': 'rue Laurence Didier\\n83330 Garcianec', 'mail': 'dallard@bouygtel.fr', 'birthdate': '1960-02-21'}\n",
      "{'_id': ObjectId('6424d09097d5a1ad8d2db254'), 'job': 'technicien forestier forestière', 'company': 'Allard', 'ssn': '190116311389215', 'residence': '93, rue Suzanne Muller\\n32110 Sainte Alex', 'current_location': [-3.8685245, 55.164249], 'blood_group': 'B-', 'website': ['http://www.thomas.com/', 'http://www.delattre.fr/', 'https://fontaine.com/'], 'username': 'thierrymahe', 'name': 'Raymond Goncalves de la Maréchal', 'sex': 'M', 'address': 'rue de Pelletier\\n78584 Gaudin-sur-Pruvost', 'mail': 'glopez@bouygtel.fr', 'birthdate': '1939-06-05'}\n",
      "{'_id': ObjectId('6424d09097d5a1ad8d2db255'), 'job': 'gendarme', 'company': 'Lefèvre Thomas SA', 'ssn': '267122309618906', 'residence': '3, rue de Becker\\n57135 Labbéboeuf', 'current_location': [-42.6159965, -17.610868], 'blood_group': 'B-', 'website': ['http://lejeune.fr/', 'http://leger.fr/', 'https://nicolas.org/'], 'username': 'emmanuellemarie', 'name': 'Éléonore Vallet', 'sex': 'F', 'address': '60, chemin Catherine Fontaine\\n41182 Bernard-les-Bains', 'mail': 'lebrunalexandria@dbmail.com', 'birthdate': '1961-08-08'}\n",
      "{'_id': ObjectId('6424d09097d5a1ad8d2db256'), 'job': 'peintre en bâtiment', 'company': 'Texier Laporte SARL', 'ssn': '141095819496912', 'residence': '48, rue Jacques\\n40444 BlinVille', 'current_location': [-30.000126, -92.168621], 'blood_group': 'AB+', 'website': ['http://guillaume.com/'], 'username': 'umoulin', 'name': 'Roger Lévy-Hoareau', 'sex': 'M', 'address': '876, rue Brunet\\n84542 Coste', 'mail': 'nath33@free.fr', 'birthdate': '1965-01-28'}\n",
      "{'_id': ObjectId('6424d09097d5a1ad8d2db257'), 'job': 'médecin généraliste', 'company': 'Lebreton', 'ssn': '125086806600180', 'residence': '792, rue de Leleu\\n87471 Blot', 'current_location': [2.506494, -16.659864], 'blood_group': 'B-', 'website': ['https://www.ferreira.com/', 'https://leroy.net/', 'http://lemaire.fr/'], 'username': 'honore65', 'name': 'Bertrand Loiseau', 'sex': 'M', 'address': '68, boulevard Letellier\\n70878 Leduc', 'mail': 'paulinedenis@wanadoo.fr', 'birthdate': '1993-12-18'}\n",
      "{'_id': ObjectId('6424d09097d5a1ad8d2db258'), 'job': 'ingénieur en énergie solaire', 'company': 'Ledoux', 'ssn': '207062227851796', 'residence': 'rue Victoire Godard\\n03288 Camus', 'current_location': [78.468538, 39.180287], 'blood_group': 'AB+', 'website': ['https://www.carlier.net/', 'http://www.fabre.net/'], 'username': 'lebretonchristine', 'name': 'Jeanne Breton', 'sex': 'F', 'address': '484, boulevard Rey\\n41446 Bousquet', 'mail': 'remy22@sfr.fr', 'birthdate': '2013-04-24'}\n",
      "{'_id': ObjectId('6424d09097d5a1ad8d2db259'), 'job': 'conducteur de travaux  agricoles', 'company': 'Meyer', 'ssn': '107119730290996', 'residence': '4, avenue Thierry Giraud\\n28567 NavarroBourg', 'current_location': [-56.1081325, -45.832199], 'blood_group': 'B-', 'website': ['https://gillet.com/', 'http://charles.fr/', 'http://gilbert.org/'], 'username': 'philippineblot', 'name': 'Benoît Loiseau', 'sex': 'M', 'address': '98, rue Astrid David\\n68327 Marin', 'mail': 'omuller@sfr.fr', 'birthdate': '1909-10-26'}\n",
      "{'_id': ObjectId('6424d09097d5a1ad8d2db25a'), 'job': 'gestionnaire actif/passif', 'company': 'Menard Valentin S.A.', 'ssn': '109105110836819', 'residence': '27, rue Briand\\n10233 Mallet', 'current_location': [-42.6610155, 166.585987], 'blood_group': 'O-', 'website': ['https://www.perez.net/'], 'username': 'paulettebousquet', 'name': 'Anouk de la Regnier', 'sex': 'F', 'address': '25, avenue Pereira\\n08418 Boyer-les-Bains', 'mail': 'fleurycaroline@dbmail.com', 'birthdate': '1969-04-16'}\n",
      "{'_id': ObjectId('6424d09097d5a1ad8d2db25b'), 'job': 'inséminateur', 'company': 'Faure Navarro SA', 'ssn': '122122432269787', 'residence': '90, boulevard Capucine Maurice\\n38202 MaillardVille', 'current_location': [46.3067795, -130.361363], 'blood_group': 'AB+', 'website': ['https://toussaint.fr/'], 'username': 'vguillou', 'name': 'Gérard Petit', 'sex': 'M', 'address': '9, avenue René Charpentier\\n56585 Deschamps', 'mail': 'alainbourdon@live.com', 'birthdate': '1946-05-10'}\n",
      "{'_id': ObjectId('6424d09097d5a1ad8d2db25c'), 'job': 'rédacteur on line', 'company': 'Dupuy Bouvet S.A.', 'ssn': '269077654069195', 'residence': '50, rue Turpin\\n35795 Bourdon', 'current_location': [81.5437575, -169.624219], 'blood_group': 'AB+', 'website': ['https://andre.net/', 'https://www.normand.com/', 'https://www.de.com/'], 'username': 'martinezmonique', 'name': 'Zacharie Vasseur', 'sex': 'M', 'address': '12, avenue de Marques\\n38597 Le Gall', 'mail': 'umartin@yahoo.fr', 'birthdate': '1976-02-09'}\n",
      "{'_id': ObjectId('6424d09097d5a1ad8d2db25d'), 'job': 'auxiliaire de puériculture', 'company': 'Le Goff Petit SA', 'ssn': '160108400768125', 'residence': '4, avenue Bernard\\n00646 Chauvin', 'current_location': [32.15007, -55.74114], 'blood_group': 'AB+', 'website': ['http://bernier.fr/'], 'username': 'yvesdiaz', 'name': 'Simone Pineau', 'sex': 'F', 'address': '8, rue Gonzalez\\n51402 Moreau-sur-Torres', 'mail': 'aurorelabbe@yahoo.fr', 'birthdate': '1988-01-03'}\n",
      "{'_id': ObjectId('6424d09097d5a1ad8d2db25e'), 'job': 'prototypiste en matériaux souples', 'company': 'De Sousa', 'ssn': '190115110876732', 'residence': '24, avenue Collin\\n60727 Lefort', 'current_location': [-87.199235, -45.175551], 'blood_group': 'B-', 'website': ['https://www.bouchet.org/', 'https://lebon.net/', 'https://www.bouvet.com/', 'http://www.pineau.fr/'], 'username': 'qbarre', 'name': 'Renée Chrétien', 'sex': 'F', 'address': 'rue de Dubois\\n65892 Pascal-sur-Texier', 'mail': 'charlottecarre@hotmail.fr', 'birthdate': '1934-04-28'}\n"
     ]
    },
    {
     "name": "stderr",
     "output_type": "stream",
     "text": [
      "IOPub data rate exceeded.\n",
      "The notebook server will temporarily stop sending output\n",
      "to the client in order to avoid crashing it.\n",
      "To change this limit, set the config variable\n",
      "`--NotebookApp.iopub_data_rate_limit`.\n",
      "\n",
      "Current values:\n",
      "NotebookApp.iopub_data_rate_limit=1000000.0 (bytes/sec)\n",
      "NotebookApp.rate_limit_window=3.0 (secs)\n",
      "\n"
     ]
    }
   ],
   "source": [
    "find_all()"
   ]
  },
  {
   "cell_type": "code",
   "execution_count": 10,
   "id": "8b7053aa",
   "metadata": {},
   "outputs": [],
   "source": [
    "df = pandas.DataFrame(mycollaction.find())\n"
   ]
  },
  {
   "cell_type": "code",
   "execution_count": 11,
   "id": "f2faddc2",
   "metadata": {},
   "outputs": [
    {
     "data": {
      "text/html": [
       "<div>\n",
       "<style scoped>\n",
       "    .dataframe tbody tr th:only-of-type {\n",
       "        vertical-align: middle;\n",
       "    }\n",
       "\n",
       "    .dataframe tbody tr th {\n",
       "        vertical-align: top;\n",
       "    }\n",
       "\n",
       "    .dataframe thead th {\n",
       "        text-align: right;\n",
       "    }\n",
       "</style>\n",
       "<table border=\"1\" class=\"dataframe\">\n",
       "  <thead>\n",
       "    <tr style=\"text-align: right;\">\n",
       "      <th></th>\n",
       "      <th>_id</th>\n",
       "      <th>job</th>\n",
       "      <th>company</th>\n",
       "      <th>ssn</th>\n",
       "      <th>residence</th>\n",
       "      <th>current_location</th>\n",
       "      <th>blood_group</th>\n",
       "      <th>website</th>\n",
       "      <th>username</th>\n",
       "      <th>name</th>\n",
       "      <th>sex</th>\n",
       "      <th>address</th>\n",
       "      <th>mail</th>\n",
       "      <th>birthdate</th>\n",
       "    </tr>\n",
       "  </thead>\n",
       "  <tbody>\n",
       "    <tr>\n",
       "      <th>0</th>\n",
       "      <td>6424d08f97d5a1ad8d2db1fa</td>\n",
       "      <td>expert automobile</td>\n",
       "      <td>Neveu SA</td>\n",
       "      <td>261034101814319</td>\n",
       "      <td>77, rue Bigot\\n69583 PineauVille</td>\n",
       "      <td>[61.800313, -7.789611]</td>\n",
       "      <td>AB-</td>\n",
       "      <td>[http://www.teixeira.com/, http://laurent.com/...</td>\n",
       "      <td>hmaillard</td>\n",
       "      <td>Arnaude Fischer</td>\n",
       "      <td>F</td>\n",
       "      <td>69, rue de Gilbert\\n70052 Saint LouiseBourg</td>\n",
       "      <td>veronique79@ifrance.com</td>\n",
       "      <td>1998-02-28</td>\n",
       "    </tr>\n",
       "    <tr>\n",
       "      <th>1</th>\n",
       "      <td>6424d08f97d5a1ad8d2db1fb</td>\n",
       "      <td>chargé de recherche en acoustique musicale</td>\n",
       "      <td>Gautier</td>\n",
       "      <td>145088400768545</td>\n",
       "      <td>15, rue Hugues Breton\\n05703 Becker</td>\n",
       "      <td>[-51.571988, 22.39516]</td>\n",
       "      <td>B-</td>\n",
       "      <td>[http://berthelot.net/, http://www.meunier.com...</td>\n",
       "      <td>lauremarin</td>\n",
       "      <td>Chantal Valette</td>\n",
       "      <td>F</td>\n",
       "      <td>chemin Gomes\\n51854 Potier</td>\n",
       "      <td>manon22@hotmail.fr</td>\n",
       "      <td>2004-07-13</td>\n",
       "    </tr>\n",
       "    <tr>\n",
       "      <th>2</th>\n",
       "      <td>6424d08f97d5a1ad8d2db1fc</td>\n",
       "      <td>juge d'instruction</td>\n",
       "      <td>Gaillard SARL</td>\n",
       "      <td>108023155510639</td>\n",
       "      <td>58, boulevard Benoît Ramos\\n51834 Blin</td>\n",
       "      <td>[53.595249, -118.088591]</td>\n",
       "      <td>O+</td>\n",
       "      <td>[https://www.leduc.fr/, http://dupre.fr/, http...</td>\n",
       "      <td>frederic74</td>\n",
       "      <td>Claude Fouquet</td>\n",
       "      <td>F</td>\n",
       "      <td>29, avenue Jeannine Maréchal\\n49185 Lelièvre</td>\n",
       "      <td>theophile66@dbmail.com</td>\n",
       "      <td>1919-03-25</td>\n",
       "    </tr>\n",
       "    <tr>\n",
       "      <th>3</th>\n",
       "      <td>6424d08f97d5a1ad8d2db1fd</td>\n",
       "      <td>administrateur territorial</td>\n",
       "      <td>François</td>\n",
       "      <td>138058619458217</td>\n",
       "      <td>12, avenue Yves Faivre\\n94118 Sainte AdrienneV...</td>\n",
       "      <td>[-58.812559, -43.531101]</td>\n",
       "      <td>A-</td>\n",
       "      <td>[https://www.brun.org/, http://www.dufour.com/...</td>\n",
       "      <td>jeannele-goff</td>\n",
       "      <td>Julien de Munoz</td>\n",
       "      <td>M</td>\n",
       "      <td>rue de Dufour\\n57356 Martinez</td>\n",
       "      <td>georgesveronique@tiscali.fr</td>\n",
       "      <td>1927-11-04</td>\n",
       "    </tr>\n",
       "    <tr>\n",
       "      <th>4</th>\n",
       "      <td>6424d08f97d5a1ad8d2db1fe</td>\n",
       "      <td>chercheur en physique</td>\n",
       "      <td>Hoarau et Fils</td>\n",
       "      <td>194062123178361</td>\n",
       "      <td>chemin de Martin\\n12683 Guillot</td>\n",
       "      <td>[38.5796055, 40.159154]</td>\n",
       "      <td>A+</td>\n",
       "      <td>[https://www.valette.com/]</td>\n",
       "      <td>xleroux</td>\n",
       "      <td>Aimée Boutin de la Jacques</td>\n",
       "      <td>F</td>\n",
       "      <td>197, rue Teixeira\\n57380 Lenoir</td>\n",
       "      <td>alix63@wanadoo.fr</td>\n",
       "      <td>1921-11-04</td>\n",
       "    </tr>\n",
       "  </tbody>\n",
       "</table>\n",
       "</div>"
      ],
      "text/plain": [
       "                        _id                                         job  \\\n",
       "0  6424d08f97d5a1ad8d2db1fa                           expert automobile   \n",
       "1  6424d08f97d5a1ad8d2db1fb  chargé de recherche en acoustique musicale   \n",
       "2  6424d08f97d5a1ad8d2db1fc                          juge d'instruction   \n",
       "3  6424d08f97d5a1ad8d2db1fd                  administrateur territorial   \n",
       "4  6424d08f97d5a1ad8d2db1fe                       chercheur en physique   \n",
       "\n",
       "          company              ssn  \\\n",
       "0        Neveu SA  261034101814319   \n",
       "1         Gautier  145088400768545   \n",
       "2   Gaillard SARL  108023155510639   \n",
       "3        François  138058619458217   \n",
       "4  Hoarau et Fils  194062123178361   \n",
       "\n",
       "                                           residence  \\\n",
       "0                   77, rue Bigot\\n69583 PineauVille   \n",
       "1                15, rue Hugues Breton\\n05703 Becker   \n",
       "2             58, boulevard Benoît Ramos\\n51834 Blin   \n",
       "3  12, avenue Yves Faivre\\n94118 Sainte AdrienneV...   \n",
       "4                    chemin de Martin\\n12683 Guillot   \n",
       "\n",
       "           current_location blood_group  \\\n",
       "0    [61.800313, -7.789611]         AB-   \n",
       "1    [-51.571988, 22.39516]          B-   \n",
       "2  [53.595249, -118.088591]          O+   \n",
       "3  [-58.812559, -43.531101]          A-   \n",
       "4   [38.5796055, 40.159154]          A+   \n",
       "\n",
       "                                             website       username  \\\n",
       "0  [http://www.teixeira.com/, http://laurent.com/...      hmaillard   \n",
       "1  [http://berthelot.net/, http://www.meunier.com...     lauremarin   \n",
       "2  [https://www.leduc.fr/, http://dupre.fr/, http...     frederic74   \n",
       "3  [https://www.brun.org/, http://www.dufour.com/...  jeannele-goff   \n",
       "4                         [https://www.valette.com/]        xleroux   \n",
       "\n",
       "                         name sex  \\\n",
       "0             Arnaude Fischer   F   \n",
       "1             Chantal Valette   F   \n",
       "2              Claude Fouquet   F   \n",
       "3             Julien de Munoz   M   \n",
       "4  Aimée Boutin de la Jacques   F   \n",
       "\n",
       "                                        address                         mail  \\\n",
       "0   69, rue de Gilbert\\n70052 Saint LouiseBourg      veronique79@ifrance.com   \n",
       "1                    chemin Gomes\\n51854 Potier           manon22@hotmail.fr   \n",
       "2  29, avenue Jeannine Maréchal\\n49185 Lelièvre       theophile66@dbmail.com   \n",
       "3                 rue de Dufour\\n57356 Martinez  georgesveronique@tiscali.fr   \n",
       "4               197, rue Teixeira\\n57380 Lenoir            alix63@wanadoo.fr   \n",
       "\n",
       "    birthdate  \n",
       "0  1998-02-28  \n",
       "1  2004-07-13  \n",
       "2  1919-03-25  \n",
       "3  1927-11-04  \n",
       "4  1921-11-04  "
      ]
     },
     "execution_count": 11,
     "metadata": {},
     "output_type": "execute_result"
    }
   ],
   "source": [
    "df.head()"
   ]
  },
  {
   "cell_type": "code",
   "execution_count": 12,
   "id": "d2d07a09",
   "metadata": {},
   "outputs": [],
   "source": [
    "def nb_femme():\n",
    "    count=mycollaction.count_documents(filter={\"sex\":\"F\"})\n",
    "    print(\"nombre de femme is\",count)"
   ]
  },
  {
   "cell_type": "code",
   "execution_count": 13,
   "id": "278adb26",
   "metadata": {},
   "outputs": [
    {
     "name": "stdout",
     "output_type": "stream",
     "text": [
      "nombre de femme is 25042\n"
     ]
    }
   ],
   "source": [
    "nb_femme()"
   ]
  },
  {
   "cell_type": "code",
   "execution_count": 14,
   "id": "9faad047",
   "metadata": {},
   "outputs": [],
   "source": [
    "def nb_Homme():\n",
    "    count=mycollaction.count_documents(filter={\"sex\":\"M\"})\n",
    "    print(\"nombre de homme is\",count)"
   ]
  },
  {
   "cell_type": "code",
   "execution_count": 15,
   "id": "0b9e119d",
   "metadata": {},
   "outputs": [
    {
     "name": "stdout",
     "output_type": "stream",
     "text": [
      "nombre de homme is 24958\n"
     ]
    }
   ],
   "source": [
    "nb_Homme()"
   ]
  },
  {
   "cell_type": "code",
   "execution_count": null,
   "id": "d4efcac2",
   "metadata": {},
   "outputs": [],
   "source": [
    "#########################################################################################################################"
   ]
  },
  {
   "cell_type": "code",
   "execution_count": null,
   "id": "8cc1e976",
   "metadata": {},
   "outputs": [],
   "source": [
    "#j'ai fait l'exercie 3 avant 2"
   ]
  },
  {
   "cell_type": "code",
   "execution_count": 16,
   "id": "2f84d267",
   "metadata": {},
   "outputs": [],
   "source": [
    "# cette fonction pour convertir l'age\n",
    "def age(a):\n",
    "    date_naissance = datetime.strptime(a, \"%Y-%m-%d\").date()\n",
    "    aujourdhui = datetime.today().date()\n",
    "    age = aujourdhui.year - date_naissance.year - ((aujourdhui.month, aujourdhui.day) < (date_naissance.month, date_naissance.day))\n",
    "\n",
    "    return age"
   ]
  },
  {
   "cell_type": "code",
   "execution_count": 17,
   "id": "d56137d7",
   "metadata": {},
   "outputs": [
    {
     "data": {
      "text/plain": [
       "26"
      ]
     },
     "execution_count": 17,
     "metadata": {},
     "output_type": "execute_result"
    }
   ],
   "source": [
    "age(\"1996-9-1\")"
   ]
  },
  {
   "cell_type": "code",
   "execution_count": 18,
   "id": "6df2f811",
   "metadata": {},
   "outputs": [],
   "source": [
    "#convertir l'age de chaque personne et l'ajouter a la base mongodb\n",
    "def ajouter_age():\n",
    "    for document in mycollaction.find():\n",
    "        s=age(document['birthdate'])\n",
    "        mycollaction.update_one({'_id': document['_id']}, {\"$set\": {\"age\": s}})"
   ]
  },
  {
   "cell_type": "code",
   "execution_count": 19,
   "id": "d976a44b",
   "metadata": {},
   "outputs": [],
   "source": [
    "ajouter_age()"
   ]
  },
  {
   "cell_type": "code",
   "execution_count": 20,
   "id": "ba42f921",
   "metadata": {},
   "outputs": [],
   "source": [
    "def metier_age(metier):\n",
    "    hommes = []\n",
    "    femmes = []\n",
    "   \n",
    "    for document in mycollaction.find():\n",
    "        if metier in (document['job']):\n",
    "            if document['sex'] == 'F':\n",
    "                \n",
    "                hommes.append(document[\"age\"])\n",
    "            else:\n",
    "                femmes.append(document[\"age\"])\n",
    "                \n",
    "            \n",
    "    return hommes,femmes"
   ]
  },
  {
   "cell_type": "code",
   "execution_count": 21,
   "id": "a777b90c",
   "metadata": {},
   "outputs": [
    {
     "name": "stdout",
     "output_type": "stream",
     "text": [
      "([109, 41, 101, 2, 97, 115, 38, 102, 35, 59, 23, 11, 48, 55, 34, 47, 57, 23, 30, 85, 16, 10, 116, 64, 28, 67, 27, 34, 115, 30, 29, 87, 40, 23, 86, 73, 92, 11, 39, 9, 102, 98, 69, 50, 7, 65, 115, 66, 83, 27, 78, 44, 65, 102, 20, 12, 15, 99, 92, 79, 3, 103, 55, 6, 59, 73, 63, 79, 59, 13, 98, 57, 116, 85, 69, 76, 10, 12, 105, 84, 40, 84, 81, 21, 30, 73, 58, 115, 112, 94, 111, 83, 67, 58, 30, 73, 40, 23, 104, 82, 103, 61, 34, 100, 109, 16, 26, 51, 110, 40, 63, 59, 59, 10, 78, 96, 7, 42, 35, 99, 112, 33, 45, 3, 20, 89], [41, 20, 17, 106, 98, 66, 81, 74, 60, 61, 50, 60, 112, 18, 22, 27, 65, 74, 35, 30, 91, 32, 10, 66, 2, 18, 58, 4, 9, 23, 101, 116, 63, 111, 83, 14, 51, 77, 37, 47, 102, 99, 67, 57, 39, 3, 58, 101, 84, 66, 51, 36, 5, 76, 78, 18, 69, 68, 35, 40, 42, 83, 23, 24, 14, 29, 58, 1, 70, 56, 86, 5, 86, 18, 94, 1, 71, 88, 96, 62, 65, 30, 44, 72, 53, 107, 34, 107, 87, 7, 2, 61, 91, 69, 60, 100, 30, 37, 116, 71, 27, 55, 70, 98, 36, 111, 109, 43, 98, 2, 23, 17, 21, 83, 4, 27, 87, 116, 71, 15, 64, 95, 69, 71, 61, 45, 38, 54, 88, 33, 30, 44, 74, 100, 3, 20, 98, 14, 88, 112, 53, 69, 111, 28, 10, 108, 93, 17, 115, 72, 113, 67, 103, 87, 35, 9, 27, 103, 21, 66, 75, 10, 31, 52, 67, 3, 44, 56])\n"
     ]
    }
   ],
   "source": [
    "print(metier_age(\"juriste\"))"
   ]
  },
  {
   "cell_type": "code",
   "execution_count": 22,
   "id": "2e7837af",
   "metadata": {},
   "outputs": [],
   "source": [
    "homme,femme=metier_age(\"avion\")\n"
   ]
  },
  {
   "cell_type": "code",
   "execution_count": 23,
   "id": "9c443f61",
   "metadata": {},
   "outputs": [
    {
     "data": {
      "text/plain": [
       "36"
      ]
     },
     "execution_count": 23,
     "metadata": {},
     "output_type": "execute_result"
    }
   ],
   "source": [
    "len(femme)"
   ]
  },
  {
   "cell_type": "code",
   "execution_count": 29,
   "id": "94f87298",
   "metadata": {},
   "outputs": [],
   "source": [
    "def show_pyramid(metier):\n",
    "    homme,femme=metier_age(metier)\n",
    "    total_male_population = sum(homme)\n",
    "    total_female_population = sum(femme)\n",
    "    male_proportions = [x / total_male_population for x in homme]\n",
    "    female_proportions = [x / total_female_population for x in femme]\n",
    "\n",
    "    # Tracé de la pyramide d'âge\n",
    "    fig, ax1 = plt.subplots()\n",
    "\n",
    "    ax1.barh(homme, male_proportions, align='center',  color='blue')\n",
    "    ax1.barh(femme, [-x for x in female_proportions], align='center', color='red')\n",
    "    ax1.invert_xaxis()\n",
    "    ax1.set_xlabel('Hommes___________________Femme')\n",
    "    ax1.set_ylabel('Âges')\n",
    "    ax1.set_title(f'Pyramide des âges pour ')\n",
    "\n",
    "    # Afficher le graphique\n",
    "    return plt.show()"
   ]
  },
  {
   "cell_type": "code",
   "execution_count": 30,
   "id": "dd84b8bd",
   "metadata": {},
   "outputs": [
    {
     "data": {
      "image/png": "[encoded data removed]",
      "text/plain": [
       "<Figure size 640x480 with 1 Axes>"
      ]
     },
     "metadata": {},
     "output_type": "display_data"
    }
   ],
   "source": [
    "show_pyramid('avion')"
   ]
  },
  {
   "cell_type": "code",
   "execution_count": null,
   "id": "f1852c37",
   "metadata": {},
   "outputs": [],
   "source": [
    "##########################################################################################################################"
   ]
  },
  {
   "cell_type": "code",
   "execution_count": null,
   "id": "4a41762f",
   "metadata": {},
   "outputs": [],
   "source": [
    "#exercice 2 :"
   ]
  },
  {
   "cell_type": "code",
   "execution_count": 31,
   "id": "c005774e",
   "metadata": {},
   "outputs": [],
   "source": [
    "client = pymongo.MongoClient(\"mongodb://localhost:27017/\")\n",
    "db=client[\"societe\"]\n",
    "mycollaction=db[\"entreprise\"]"
   ]
  },
  {
   "cell_type": "code",
   "execution_count": 32,
   "id": "54eda948",
   "metadata": {},
   "outputs": [],
   "source": [
    "def collection(uri):\n",
    "    client = MongoClient(uri)\n",
    "    database = client[\"societe\"]\n",
    "    collection = database[\"entreprise\"]\n",
    "    return collection\n"
   ]
  },
  {
   "cell_type": "code",
   "execution_count": 33,
   "id": "e9a55f73",
   "metadata": {},
   "outputs": [],
   "source": [
    "def load(uri=\"mongodb://localhost:27017/\", datapath=r\"C:\\Users\\anass\\OneDrive\\Bureau\\lalou.json\"):\n",
    "    coll = collection(uri=uri)\n",
    "    with open(datapath, \"r\") as fp:\n",
    "        data = json.load(fp)\n",
    "        for entreprise in data:\n",
    "            coll.insert_one(entreprise)"
   ]
  },
  {
   "cell_type": "code",
   "execution_count": 34,
   "id": "292e9c0f",
   "metadata": {},
   "outputs": [
    {
     "data": {
      "text/plain": [
       "Collection(Database(MongoClient(host=['localhost:27017'], document_class=dict, tz_aware=False, connect=True), 'societe'), 'entreprise')"
      ]
     },
     "execution_count": 34,
     "metadata": {},
     "output_type": "execute_result"
    }
   ],
   "source": [
    "collection(\"mongodb://localhost:27017/\")"
   ]
  },
  {
   "cell_type": "code",
   "execution_count": 35,
   "id": "cbb0eb70",
   "metadata": {},
   "outputs": [],
   "source": [
    "load()"
   ]
  },
  {
   "cell_type": "code",
   "execution_count": 36,
   "id": "65ab7a6e",
   "metadata": {},
   "outputs": [
    {
     "data": {
      "text/plain": [
       "['admin', 'config', 'local', 'rhobs', 'societe']"
      ]
     },
     "execution_count": 36,
     "metadata": {},
     "output_type": "execute_result"
    }
   ],
   "source": [
    "client.list_database_names()\n"
   ]
  },
  {
   "cell_type": "code",
   "execution_count": 37,
   "id": "fa6c0798",
   "metadata": {},
   "outputs": [],
   "source": [
    "number_list = [200, 1500, 2000, 1500, 1600,1332,200, 1102, 1999, 1500, 3520,1332,200, 100, 1400, 1500, 6000,1332,200, 50, 300, 1500, 1700]\n"
   ]
  },
  {
   "cell_type": "code",
   "execution_count": 38,
   "id": "ec113224",
   "metadata": {},
   "outputs": [],
   "source": [
    "# ajouter les nombres des personnes a mongodb\n",
    "def ajouter_nb_personnes():\n",
    "    for document in mycollaction.find():\n",
    "        a=random.choice(number_list)\n",
    "        b=mycollaction.update_one({'_id': document['_id']}, {\"$set\": {\"nb_personnes\": a}})\n",
    "    "
   ]
  },
  {
   "cell_type": "code",
   "execution_count": 39,
   "id": "91dddf59",
   "metadata": {},
   "outputs": [],
   "source": [
    "ajouter_nb_personnes()"
   ]
  },
  {
   "cell_type": "code",
   "execution_count": 40,
   "id": "61a912a0",
   "metadata": {},
   "outputs": [],
   "source": [
    "def find_company(n):\n",
    "    for document in mycollaction.find():\n",
    "        if n < (document['nb_personnes']):\n",
    "            s=print('l entreprise',document['Name'],'a un nombres de personne=',document['nb_personnes'],'>',n)\n",
    "    return s"
   ]
  },
  {
   "cell_type": "code",
   "execution_count": 41,
   "id": "3558c156",
   "metadata": {},
   "outputs": [
    {
     "name": "stdout",
     "output_type": "stream",
     "text": [
      "l entreprise 3M a un nombres de personne= 1500 > 500\n",
      "l entreprise A. O. Smith a un nombres de personne= 1500 > 500\n",
      "l entreprise Abbott a un nombres de personne= 1999 > 500\n",
      "l entreprise AbbVie a un nombres de personne= 2000 > 500\n",
      "l entreprise Accenture a un nombres de personne= 3520 > 500\n",
      "l entreprise Activision Blizzard a un nombres de personne= 1500 > 500\n",
      "l entreprise ADM a un nombres de personne= 1500 > 500\n",
      "l entreprise Adobe Inc. a un nombres de personne= 1400 > 500\n",
      "l entreprise ADP a un nombres de personne= 1999 > 500\n",
      "l entreprise Advance Auto Parts a un nombres de personne= 1700 > 500\n",
      "l entreprise AES Corporation a un nombres de personne= 1500 > 500\n",
      "l entreprise Aflac a un nombres de personne= 1332 > 500\n",
      "l entreprise Agilent Technologies a un nombres de personne= 1700 > 500\n",
      "l entreprise Air Products and Chemicals a un nombres de personne= 1332 > 500\n",
      "l entreprise Akamai a un nombres de personne= 1500 > 500\n",
      "l entreprise Albemarle Corporation a un nombres de personne= 3520 > 500\n",
      "l entreprise Allegion a un nombres de personne= 1999 > 500\n",
      "l entreprise Alliant Energy a un nombres de personne= 2000 > 500\n",
      "l entreprise Alphabet Inc. (Class A) a un nombres de personne= 1332 > 500\n",
      "l entreprise Alphabet Inc. (Class C) a un nombres de personne= 1500 > 500\n",
      "l entreprise Amcor a un nombres de personne= 3520 > 500\n",
      "l entreprise AMD a un nombres de personne= 1332 > 500\n",
      "l entreprise Ameren a un nombres de personne= 1700 > 500\n",
      "l entreprise American Airlines Group a un nombres de personne= 2000 > 500\n",
      "l entreprise American Electric Power a un nombres de personne= 1500 > 500\n",
      "l entreprise American International Group a un nombres de personne= 2000 > 500\n",
      "l entreprise American Water Works a un nombres de personne= 1500 > 500\n",
      "l entreprise Ameriprise Financial a un nombres de personne= 1332 > 500\n",
      "l entreprise AmerisourceBergen a un nombres de personne= 1332 > 500\n",
      "l entreprise Ametek a un nombres de personne= 1500 > 500\n",
      "l entreprise Amgen a un nombres de personne= 1500 > 500\n",
      "l entreprise Amphenol a un nombres de personne= 1500 > 500\n",
      "l entreprise Analog Devices a un nombres de personne= 1999 > 500\n",
      "l entreprise Ansys a un nombres de personne= 1332 > 500\n",
      "l entreprise Aon a un nombres de personne= 1999 > 500\n",
      "l entreprise Applied Materials a un nombres de personne= 1332 > 500\n",
      "l entreprise Aptiv a un nombres de personne= 1500 > 500\n",
      "l entreprise Arch Capital Group a un nombres de personne= 1102 > 500\n",
      "l entreprise Arthur J. Gallagher & Co. a un nombres de personne= 1500 > 500\n",
      "l entreprise Assurant a un nombres de personne= 1102 > 500\n",
      "l entreprise Atmos Energy a un nombres de personne= 2000 > 500\n",
      "l entreprise AutoZone a un nombres de personne= 1700 > 500\n",
      "l entreprise AvalonBay Communities a un nombres de personne= 1600 > 500\n",
      "l entreprise Baker Hughes a un nombres de personne= 1500 > 500\n",
      "l entreprise Bank of America a un nombres de personne= 1102 > 500\n",
      "l entreprise Baxter International a un nombres de personne= 1700 > 500\n",
      "l entreprise Becton Dickinson a un nombres de personne= 1400 > 500\n",
      "l entreprise Berkley a un nombres de personne= 1500 > 500\n",
      "l entreprise Berkshire Hathaway a un nombres de personne= 1400 > 500\n",
      "l entreprise Bio-Rad a un nombres de personne= 1102 > 500\n",
      "l entreprise Biogen a un nombres de personne= 1500 > 500\n",
      "l entreprise BlackRock a un nombres de personne= 1600 > 500\n",
      "l entreprise BNY Mellon a un nombres de personne= 2000 > 500\n",
      "l entreprise Boeing a un nombres de personne= 1102 > 500\n",
      "l entreprise BorgWarner a un nombres de personne= 1500 > 500\n",
      "l entreprise Bristol Myers Squibb a un nombres de personne= 1332 > 500\n",
      "l entreprise Broadridge Financial Solutions a un nombres de personne= 1500 > 500\n",
      "l entreprise Brown–Forman a un nombres de personne= 3520 > 500\n",
      "l entreprise Caesars Entertainment a un nombres de personne= 1500 > 500\n",
      "l entreprise Campbell Soup Company a un nombres de personne= 2000 > 500\n",
      "l entreprise CarMax a un nombres de personne= 1332 > 500\n",
      "l entreprise Carnival a un nombres de personne= 1332 > 500\n",
      "l entreprise Carrier Global a un nombres de personne= 1332 > 500\n",
      "l entreprise Catalent a un nombres de personne= 1500 > 500\n",
      "l entreprise Caterpillar Inc. a un nombres de personne= 1500 > 500\n",
      "l entreprise CBRE Group a un nombres de personne= 2000 > 500\n",
      "l entreprise CDW a un nombres de personne= 1600 > 500\n",
      "l entreprise Centene Corporation a un nombres de personne= 1102 > 500\n",
      "l entreprise CenterPoint Energy a un nombres de personne= 1600 > 500\n",
      "l entreprise Ceridian a un nombres de personne= 1500 > 500\n",
      "l entreprise CF Industries a un nombres de personne= 1500 > 500\n",
      "l entreprise Charles River Laboratories a un nombres de personne= 3520 > 500\n",
      "l entreprise Chevron Corporation a un nombres de personne= 1500 > 500\n",
      "l entreprise Chubb Limited a un nombres de personne= 3520 > 500\n",
      "l entreprise Church & Dwight a un nombres de personne= 1332 > 500\n",
      "l entreprise Cincinnati Financial a un nombres de personne= 1332 > 500\n",
      "l entreprise Citigroup a un nombres de personne= 1500 > 500\n",
      "l entreprise Clorox a un nombres de personne= 1500 > 500\n",
      "l entreprise CME Group a un nombres de personne= 3520 > 500\n",
      "l entreprise CMS Energy a un nombres de personne= 1500 > 500\n",
      "l entreprise Cognizant a un nombres de personne= 1332 > 500\n",
      "l entreprise Colgate-Palmolive a un nombres de personne= 6000 > 500\n",
      "l entreprise Comcast a un nombres de personne= 1500 > 500\n",
      "l entreprise ConocoPhillips a un nombres de personne= 1400 > 500\n",
      "l entreprise Consolidated Edison a un nombres de personne= 1500 > 500\n",
      "l entreprise CooperCompanies a un nombres de personne= 1999 > 500\n",
      "l entreprise Copart a un nombres de personne= 1999 > 500\n",
      "l entreprise Corning Inc. a un nombres de personne= 1332 > 500\n",
      "l entreprise CoStar Group a un nombres de personne= 2000 > 500\n",
      "l entreprise Crown Castle a un nombres de personne= 3520 > 500\n",
      "l entreprise CVS Health a un nombres de personne= 1500 > 500\n",
      "l entreprise Darden Restaurants a un nombres de personne= 1600 > 500\n",
      "l entreprise DaVita Inc. a un nombres de personne= 1999 > 500\n",
      "l entreprise Delta Air Lines a un nombres de personne= 1500 > 500\n",
      "l entreprise Dentsply Sirona a un nombres de personne= 1332 > 500\n",
      "l entreprise Dexcom a un nombres de personne= 1500 > 500\n",
      "l entreprise Diamondback Energy a un nombres de personne= 1332 > 500\n",
      "l entreprise Digital Realty a un nombres de personne= 1332 > 500\n",
      "l entreprise Disney a un nombres de personne= 1600 > 500\n",
      "l entreprise Dollar General a un nombres de personne= 1500 > 500\n",
      "l entreprise Dominion Energy a un nombres de personne= 1500 > 500\n",
      "l entreprise Domino's a un nombres de personne= 1500 > 500\n",
      "l entreprise Dover Corporation a un nombres de personne= 1500 > 500\n",
      "l entreprise Dow Inc. a un nombres de personne= 1500 > 500\n",
      "l entreprise Duke Energy a un nombres de personne= 1332 > 500\n",
      "l entreprise DuPont a un nombres de personne= 1332 > 500\n",
      "l entreprise DXC Technology a un nombres de personne= 1500 > 500\n",
      "l entreprise Eaton Corporation a un nombres de personne= 1700 > 500\n",
      "l entreprise eBay a un nombres de personne= 3520 > 500\n",
      "l entreprise Edison International a un nombres de personne= 3520 > 500\n",
      "l entreprise Edwards Lifesciences a un nombres de personne= 1400 > 500\n",
      "l entreprise Electronic Arts a un nombres de personne= 6000 > 500\n",
      "l entreprise Eli Lilly and Company a un nombres de personne= 3520 > 500\n",
      "l entreprise Emerson Electric a un nombres de personne= 6000 > 500\n",
      "l entreprise Enphase a un nombres de personne= 1700 > 500\n",
      "l entreprise EPAM Systems a un nombres de personne= 1600 > 500\n",
      "l entreprise Equinix a un nombres de personne= 1600 > 500\n",
      "l entreprise Equity Residential a un nombres de personne= 3520 > 500\n",
      "l entreprise Essex Property Trust a un nombres de personne= 1332 > 500\n",
      "l entreprise Estée Lauder Companies (The) a un nombres de personne= 1332 > 500\n",
      "l entreprise Etsy a un nombres de personne= 1102 > 500\n",
      "l entreprise Everest Re a un nombres de personne= 1500 > 500\n",
      "l entreprise Evergy a un nombres de personne= 1500 > 500\n",
      "l entreprise Exelon a un nombres de personne= 2000 > 500\n",
      "l entreprise Expedia Group a un nombres de personne= 1999 > 500\n",
      "l entreprise Expeditors International a un nombres de personne= 1332 > 500\n",
      "l entreprise Extra Space Storage a un nombres de personne= 1999 > 500\n",
      "l entreprise ExxonMobil a un nombres de personne= 1500 > 500\n",
      "l entreprise F5 Inc. a un nombres de personne= 1332 > 500\n",
      "l entreprise FactSet a un nombres de personne= 1500 > 500\n",
      "l entreprise Federal Realty a un nombres de personne= 1500 > 500\n",
      "l entreprise FedEx a un nombres de personne= 1500 > 500\n",
      "l entreprise Fifth Third Bank a un nombres de personne= 1102 > 500\n",
      "l entreprise First Republic Bank a un nombres de personne= 1332 > 500\n",
      "l entreprise First Solar a un nombres de personne= 1332 > 500\n",
      "l entreprise FIS a un nombres de personne= 1700 > 500\n",
      "l entreprise Fiserv a un nombres de personne= 1102 > 500\n",
      "l entreprise FMC Corporation a un nombres de personne= 1500 > 500\n",
      "l entreprise Ford Motor Company a un nombres de personne= 1700 > 500\n",
      "l entreprise Fortinet a un nombres de personne= 1600 > 500\n",
      "l entreprise Fortive a un nombres de personne= 1332 > 500\n",
      "l entreprise Fox Corporation (Class A) a un nombres de personne= 1700 > 500\n",
      "l entreprise Franklin Templeton a un nombres de personne= 1500 > 500\n",
      "l entreprise Garmin a un nombres de personne= 1500 > 500\n",
      "l entreprise Gartner a un nombres de personne= 1500 > 500\n",
      "l entreprise GE HealthCare a un nombres de personne= 1500 > 500\n",
      "l entreprise Gen Digital a un nombres de personne= 1700 > 500\n",
      "l entreprise General Dynamics a un nombres de personne= 2000 > 500\n",
      "l entreprise General Electric a un nombres de personne= 1102 > 500\n",
      "l entreprise General Mills a un nombres de personne= 1500 > 500\n",
      "l entreprise Genuine Parts Company a un nombres de personne= 1332 > 500\n",
      "l entreprise Gilead Sciences a un nombres de personne= 1500 > 500\n",
      "l entreprise Global Payments a un nombres de personne= 1500 > 500\n",
      "l entreprise Goldman Sachs a un nombres de personne= 1332 > 500\n",
      "l entreprise Halliburton a un nombres de personne= 1102 > 500\n",
      "l entreprise Hartford (The) a un nombres de personne= 1500 > 500\n",
      "l entreprise Hasbro a un nombres de personne= 1102 > 500\n",
      "l entreprise Healthpeak a un nombres de personne= 1500 > 500\n",
      "l entreprise Henry Schein a un nombres de personne= 1700 > 500\n",
      "l entreprise Hilton Worldwide a un nombres de personne= 3520 > 500\n",
      "l entreprise Hologic a un nombres de personne= 1400 > 500\n",
      "l entreprise Home Depot (The) a un nombres de personne= 1400 > 500\n",
      "l entreprise Honeywell a un nombres de personne= 1500 > 500\n",
      "l entreprise Host Hotels & Resorts a un nombres de personne= 1332 > 500\n",
      "l entreprise Howmet Aerospace a un nombres de personne= 6000 > 500\n",
      "l entreprise Humana a un nombres de personne= 1102 > 500\n",
      "l entreprise Huntington Ingalls Industries a un nombres de personne= 1500 > 500\n",
      "l entreprise IBM a un nombres de personne= 1500 > 500\n",
      "l entreprise Idexx Laboratories a un nombres de personne= 1500 > 500\n",
      "l entreprise Illumina a un nombres de personne= 1500 > 500\n",
      "l entreprise Incyte a un nombres de personne= 1400 > 500\n",
      "l entreprise Ingersoll Rand a un nombres de personne= 1332 > 500\n",
      "l entreprise Interpublic Group of Companies (The) a un nombres de personne= 3520 > 500\n",
      "l entreprise Intuit a un nombres de personne= 1500 > 500\n",
      "l entreprise Intuitive Surgical a un nombres de personne= 6000 > 500\n",
      "l entreprise Invitation Homes a un nombres de personne= 1332 > 500\n",
      "l entreprise IQVIA a un nombres de personne= 1700 > 500\n",
      "l entreprise Iron Mountain a un nombres de personne= 1332 > 500\n",
      "l entreprise J.B. Hunt a un nombres de personne= 6000 > 500\n",
      "l entreprise J.M. Smucker Company (The) a un nombres de personne= 1500 > 500\n",
      "l entreprise Jacobs Solutions a un nombres de personne= 1600 > 500\n",
      "l entreprise John Deere a un nombres de personne= 1500 > 500\n",
      "l entreprise Johnson Controls a un nombres de personne= 1999 > 500\n",
      "l entreprise JPMorgan Chase a un nombres de personne= 3520 > 500\n",
      "l entreprise Kellogg's a un nombres de personne= 1332 > 500\n",
      "l entreprise Keysight a un nombres de personne= 3520 > 500\n",
      "l entreprise Kimco Realty a un nombres de personne= 1332 > 500\n",
      "l entreprise Kinder Morgan a un nombres de personne= 1500 > 500\n",
      "l entreprise Kraft Heinz a un nombres de personne= 1332 > 500\n",
      "l entreprise Kroger a un nombres de personne= 1999 > 500\n",
      "l entreprise LabCorp a un nombres de personne= 1332 > 500\n",
      "l entreprise Lam Research a un nombres de personne= 1999 > 500\n",
      "l entreprise Lamb Weston a un nombres de personne= 6000 > 500\n",
      "l entreprise Las Vegas Sands a un nombres de personne= 1500 > 500\n",
      "l entreprise Leidos a un nombres de personne= 6000 > 500\n",
      "l entreprise Linde plc a un nombres de personne= 1500 > 500\n",
      "l entreprise Live Nation Entertainment a un nombres de personne= 1700 > 500\n",
      "l entreprise Lockheed Martin a un nombres de personne= 1500 > 500\n",
      "l entreprise Loews Corporation a un nombres de personne= 1999 > 500\n",
      "l entreprise Lumen Technologies a un nombres de personne= 1500 > 500\n",
      "l entreprise LyondellBasell a un nombres de personne= 1500 > 500\n",
      "l entreprise M&T Bank a un nombres de personne= 1102 > 500\n",
      "l entreprise Marathon Oil a un nombres de personne= 1332 > 500\n",
      "l entreprise Marriott International a un nombres de personne= 1400 > 500\n",
      "l entreprise Marsh McLennan a un nombres de personne= 3520 > 500\n",
      "l entreprise Martin Marietta Materials a un nombres de personne= 1700 > 500\n",
      "l entreprise Masco a un nombres de personne= 2000 > 500\n",
      "l entreprise McKesson a un nombres de personne= 1102 > 500\n",
      "l entreprise Medtronic a un nombres de personne= 1332 > 500\n",
      "l entreprise Merck & Co. a un nombres de personne= 1500 > 500\n",
      "l entreprise Meta Platforms a un nombres de personne= 1500 > 500\n",
      "l entreprise MetLife a un nombres de personne= 6000 > 500\n",
      "l entreprise Mettler Toledo a un nombres de personne= 1500 > 500\n",
      "l entreprise MGM Resorts a un nombres de personne= 1500 > 500\n",
      "l entreprise Micron Technology a un nombres de personne= 1332 > 500\n",
      "l entreprise Microsoft a un nombres de personne= 1332 > 500\n",
      "l entreprise Mid-America Apartment Communities a un nombres de personne= 1700 > 500\n",
      "l entreprise Moderna a un nombres de personne= 1500 > 500\n",
      "l entreprise Mohawk Industries a un nombres de personne= 1500 > 500\n",
      "l entreprise Molina Healthcare a un nombres de personne= 6000 > 500\n",
      "l entreprise Molson Coors Beverage Company a un nombres de personne= 1500 > 500\n",
      "l entreprise Mondelez International a un nombres de personne= 1332 > 500\n",
      "l entreprise Monster Beverage a un nombres de personne= 1999 > 500\n",
      "l entreprise Moody's Corporation a un nombres de personne= 1500 > 500\n",
      "l entreprise Morgan Stanley a un nombres de personne= 1500 > 500\n",
      "l entreprise Mosaic Company (The) a un nombres de personne= 6000 > 500\n",
      "l entreprise Motorola Solutions a un nombres de personne= 1700 > 500\n",
      "l entreprise MSCI a un nombres de personne= 2000 > 500\n",
      "l entreprise Nasdaq Inc. a un nombres de personne= 1500 > 500\n",
      "l entreprise Netflix a un nombres de personne= 1500 > 500\n",
      "l entreprise Newmont a un nombres de personne= 1500 > 500\n",
      "l entreprise News Corp (Class B) a un nombres de personne= 1500 > 500\n",
      "l entreprise NextEra Energy a un nombres de personne= 1999 > 500\n",
      "l entreprise Nike Inc. a un nombres de personne= 1700 > 500\n",
      "l entreprise Nordson Corporation a un nombres de personne= 1500 > 500\n",
      "l entreprise Northrop Grumman a un nombres de personne= 1332 > 500\n",
      "l entreprise Norwegian Cruise Line Holdings a un nombres de personne= 1600 > 500\n",
      "l entreprise Nucor a un nombres de personne= 1500 > 500\n",
      "l entreprise Nvidia a un nombres de personne= 1332 > 500\n",
      "l entreprise NXP Semiconductors a un nombres de personne= 1500 > 500\n",
      "l entreprise Occidental Petroleum a un nombres de personne= 1332 > 500\n",
      "l entreprise Omnicom Group a un nombres de personne= 1332 > 500\n",
      "l entreprise ONEOK a un nombres de personne= 1500 > 500\n",
      "l entreprise Oracle Corporation a un nombres de personne= 1500 > 500\n",
      "l entreprise Otis Worldwide a un nombres de personne= 1500 > 500\n",
      "l entreprise Paccar a un nombres de personne= 1500 > 500\n",
      "l entreprise Packaging Corporation of America a un nombres de personne= 1400 > 500\n",
      "l entreprise Paramount Global a un nombres de personne= 3520 > 500\n",
      "l entreprise Paychex a un nombres de personne= 1500 > 500\n",
      "l entreprise PayPal a un nombres de personne= 1400 > 500\n",
      "l entreprise Pentair a un nombres de personne= 1332 > 500\n",
      "l entreprise PepsiCo a un nombres de personne= 1332 > 500\n",
      "l entreprise PerkinElmer a un nombres de personne= 1500 > 500\n",
      "l entreprise PG&E Corporation a un nombres de personne= 3520 > 500\n",
      "l entreprise Pioneer Natural Resources a un nombres de personne= 3520 > 500\n",
      "l entreprise PNC Financial Services a un nombres de personne= 1500 > 500\n",
      "l entreprise Pool Corporation a un nombres de personne= 1700 > 500\n",
      "l entreprise PPL Corporation a un nombres de personne= 6000 > 500\n",
      "l entreprise Procter & Gamble a un nombres de personne= 1700 > 500\n",
      "l entreprise Progressive Corporation a un nombres de personne= 1700 > 500\n",
      "l entreprise Prologis a un nombres de personne= 1102 > 500\n",
      "l entreprise Prudential Financial a un nombres de personne= 2000 > 500\n",
      "l entreprise PTC a un nombres de personne= 1332 > 500\n",
      "l entreprise Public Service Enterprise Group a un nombres de personne= 1102 > 500\n",
      "l entreprise Public Storage a un nombres de personne= 1500 > 500\n",
      "l entreprise PulteGroup a un nombres de personne= 1500 > 500\n",
      "l entreprise Qorvo a un nombres de personne= 1500 > 500\n",
      "l entreprise Quanta Services a un nombres de personne= 1500 > 500\n",
      "l entreprise Quest Diagnostics a un nombres de personne= 1700 > 500\n",
      "l entreprise Raymond James a un nombres de personne= 3520 > 500\n",
      "l entreprise Raytheon Technologies a un nombres de personne= 1700 > 500\n",
      "l entreprise Realty Income a un nombres de personne= 1500 > 500\n",
      "l entreprise Regency Centers a un nombres de personne= 2000 > 500\n",
      "l entreprise Regions Financial Corporation a un nombres de personne= 1700 > 500\n",
      "l entreprise ResMed a un nombres de personne= 6000 > 500\n",
      "l entreprise Rockwell Automation a un nombres de personne= 1500 > 500\n",
      "l entreprise Rollins Inc. a un nombres de personne= 1332 > 500\n",
      "l entreprise Ross Stores a un nombres de personne= 1332 > 500\n",
      "l entreprise Royal Caribbean Group a un nombres de personne= 1332 > 500\n",
      "l entreprise S&P Global a un nombres de personne= 2000 > 500\n",
      "l entreprise Salesforce a un nombres de personne= 1102 > 500\n",
      "l entreprise SBA Communications a un nombres de personne= 1332 > 500\n",
      "l entreprise Schlumberger a un nombres de personne= 1400 > 500\n",
      "l entreprise Seagate Technology a un nombres de personne= 1500 > 500\n",
      "l entreprise Sherwin-Williams a un nombres de personne= 1700 > 500\n",
      "l entreprise Skyworks Solutions a un nombres de personne= 1332 > 500\n",
      "l entreprise Snap-on a un nombres de personne= 1999 > 500\n",
      "l entreprise SolarEdge a un nombres de personne= 1500 > 500\n",
      "l entreprise Southern Company a un nombres de personne= 2000 > 500\n",
      "l entreprise Southwest Airlines a un nombres de personne= 1102 > 500\n",
      "l entreprise Stanley Black & Decker a un nombres de personne= 1700 > 500\n",
      "l entreprise State Street Corporation a un nombres de personne= 1500 > 500\n",
      "l entreprise Steel Dynamics a un nombres de personne= 1500 > 500\n",
      "l entreprise Stryker Corporation a un nombres de personne= 1600 > 500\n",
      "l entreprise SVB Financial a un nombres de personne= 1500 > 500\n",
      "l entreprise Synchrony Financial a un nombres de personne= 1500 > 500\n",
      "l entreprise Sysco a un nombres de personne= 1400 > 500\n",
      "l entreprise T. Rowe Price a un nombres de personne= 1600 > 500\n",
      "l entreprise Take-Two Interactive a un nombres de personne= 1600 > 500\n",
      "l entreprise Tapestry Inc. a un nombres de personne= 1400 > 500\n",
      "l entreprise Targa Resources a un nombres de personne= 3520 > 500\n",
      "l entreprise Target Corporation a un nombres de personne= 1999 > 500\n",
      "l entreprise TE Connectivity a un nombres de personne= 1500 > 500\n",
      "l entreprise Teleflex a un nombres de personne= 1700 > 500\n",
      "l entreprise Tesla Inc. a un nombres de personne= 1500 > 500\n",
      "l entreprise Texas Instruments a un nombres de personne= 3520 > 500\n",
      "l entreprise Thermo Fisher Scientific a un nombres de personne= 1332 > 500\n",
      "l entreprise TJX Companies a un nombres de personne= 1500 > 500\n",
      "l entreprise Tractor Supply a un nombres de personne= 1700 > 500\n",
      "l entreprise Trane Technologies a un nombres de personne= 1500 > 500\n",
      "l entreprise TransDigm Group a un nombres de personne= 1600 > 500\n",
      "l entreprise Trimble Inc. a un nombres de personne= 1600 > 500\n",
      "l entreprise Truist a un nombres de personne= 1500 > 500\n",
      "l entreprise Tyson Foods a un nombres de personne= 1500 > 500\n",
      "l entreprise U.S. Bank a un nombres de personne= 2000 > 500\n",
      "l entreprise UDR Inc. a un nombres de personne= 6000 > 500\n",
      "l entreprise Union Pacific Corporation a un nombres de personne= 1332 > 500\n",
      "l entreprise United Parcel Service a un nombres de personne= 1600 > 500\n",
      "l entreprise UnitedHealth Group a un nombres de personne= 1332 > 500\n",
      "l entreprise Universal Health Services a un nombres de personne= 2000 > 500\n",
      "l entreprise Valero Energy a un nombres de personne= 1500 > 500\n",
      "l entreprise Ventas a un nombres de personne= 1400 > 500\n",
      "l entreprise Verisk a un nombres de personne= 6000 > 500\n",
      "l entreprise Verizon a un nombres de personne= 1600 > 500\n",
      "l entreprise Vertex Pharmaceuticals a un nombres de personne= 1102 > 500\n",
      "l entreprise VF Corporation a un nombres de personne= 1500 > 500\n",
      "l entreprise Viatris a un nombres de personne= 6000 > 500\n",
      "l entreprise Vici Properties a un nombres de personne= 1999 > 500\n",
      "l entreprise Visa Inc. a un nombres de personne= 1400 > 500\n",
      "l entreprise Vulcan Materials Company a un nombres de personne= 3520 > 500\n",
      "l entreprise W. W. Grainger a un nombres de personne= 1500 > 500\n",
      "l entreprise Walgreens Boots Alliance a un nombres de personne= 3520 > 500\n",
      "l entreprise Walmart a un nombres de personne= 2000 > 500\n",
      "l entreprise Waters Corporation a un nombres de personne= 1600 > 500\n",
      "l entreprise WEC Energy Group a un nombres de personne= 1500 > 500\n",
      "l entreprise Wells Fargo a un nombres de personne= 1500 > 500\n",
      "l entreprise Welltower a un nombres de personne= 1500 > 500\n",
      "l entreprise West Pharmaceutical Services a un nombres de personne= 6000 > 500\n",
      "l entreprise Western Digital a un nombres de personne= 1332 > 500\n",
      "l entreprise Whirlpool Corporation a un nombres de personne= 1332 > 500\n",
      "l entreprise Williams Companies a un nombres de personne= 1500 > 500\n",
      "l entreprise Willis Towers Watson a un nombres de personne= 1500 > 500\n",
      "l entreprise Xcel Energy a un nombres de personne= 1500 > 500\n",
      "l entreprise Zebra Technologies a un nombres de personne= 1700 > 500\n",
      "l entreprise Zoetis a un nombres de personne= 1500 > 500\n"
     ]
    }
   ],
   "source": [
    "find_company(500)"
   ]
  },
  {
   "cell_type": "code",
   "execution_count": null,
   "id": "eae8aec7",
   "metadata": {},
   "outputs": [],
   "source": []
  }
 ],
 "metadata": {
  "kernelspec": {
   "display_name": "Python 3 (ipykernel)",
   "language": "python",
   "name": "python3"
  },
  "language_info": {
   "codemirror_mode": {
    "name": "ipython",
    "version": 3
   },
   "file_extension": ".py",
   "mimetype": "text/x-python",
   "name": "python",
   "nbconvert_exporter": "python",
   "pygments_lexer": "ipython3",
   "version": "3.10.9"
  }
 },
 "nbformat": 4,
 "nbformat_minor": 5
}
